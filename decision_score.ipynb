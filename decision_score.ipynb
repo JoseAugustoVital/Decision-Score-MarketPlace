{
  "nbformat": 4,
  "nbformat_minor": 0,
  "metadata": {
    "colab": {
      "name": "decision_score.ipynb",
      "provenance": [],
      "collapsed_sections": [],
      "mount_file_id": "1LFk9HUKs-viPqtMErtP7wP46CuKbrXOu",
      "authorship_tag": "ABX9TyOsqEPfDhA+v2/bluNik8MX",
      "include_colab_link": true
    },
    "kernelspec": {
      "name": "python3",
      "display_name": "Python 3"
    },
    "language_info": {
      "name": "python"
    }
  },
  "cells": [
    {
      "cell_type": "markdown",
      "metadata": {
        "id": "view-in-github",
        "colab_type": "text"
      },
      "source": [
        "<a href=\"https://colab.research.google.com/github/JoseAugustoVital/Decision-Score-MarketPlace/blob/main/decision_score.ipynb\" target=\"_parent\"><img src=\"https://colab.research.google.com/assets/colab-badge.svg\" alt=\"Open In Colab\"/></a>"
      ]
    },
    {
      "cell_type": "markdown",
      "metadata": {
        "id": "f4nBMawrfyQ9"
      },
      "source": [
        "# ***UNIVERSIDADE FEDERAL DO MATO GROSSO DO SUL***\n",
        "# Análise de dados para aumentar nível de satisfação dos clientes de um marketplace utilizando árvore de decisão.\n",
        "**TRABALHO 3 - INTELIGÊNCIA ARTIFICIAL 2021/1**\n",
        "__________________________________________________\n",
        "\n",
        "**Aluno:** \n",
        "\n",
        "Nome: **José Augusto Lajo Vieira Vital** \n",
        "\n"
      ]
    },
    {
      "cell_type": "code",
      "metadata": {
        "id": "avPdDxxTjYu2"
      },
      "source": [
        "# INÍCIO DO ESTUDO"
      ],
      "execution_count": null,
      "outputs": []
    },
    {
      "cell_type": "markdown",
      "metadata": {
        "id": "ZUR9p8AcjKE3"
      },
      "source": [
        "**Importação do sistema operacional**"
      ]
    },
    {
      "cell_type": "code",
      "metadata": {
        "id": "drhV6bHNjHb3"
      },
      "source": [
        "import os"
      ],
      "execution_count": null,
      "outputs": []
    },
    {
      "cell_type": "markdown",
      "metadata": {
        "id": "zzvcMJWdjcW4"
      },
      "source": [
        "**Determinação do acesso ao diretório**"
      ]
    },
    {
      "cell_type": "code",
      "metadata": {
        "id": "V2H548yrnSba"
      },
      "source": [
        "os.chdir('/content/drive/MyDrive/datasets')"
      ],
      "execution_count": null,
      "outputs": []
    },
    {
      "cell_type": "code",
      "metadata": {
        "colab": {
          "base_uri": "https://localhost:8080/"
        },
        "id": "jPZkdEl2nU4H",
        "outputId": "b015ba36-d099-4729-b31e-545cf611b934"
      },
      "source": [
        "from google.colab import drive\n",
        "drive.mount('/content/drive')"
      ],
      "execution_count": null,
      "outputs": [
        {
          "output_type": "stream",
          "text": [
            "Drive already mounted at /content/drive; to attempt to forcibly remount, call drive.mount(\"/content/drive\", force_remount=True).\n"
          ],
          "name": "stdout"
        }
      ]
    },
    {
      "cell_type": "code",
      "metadata": {
        "id": "n9qQeOJ3nXyZ",
        "colab": {
          "base_uri": "https://localhost:8080/"
        },
        "outputId": "ad44cee1-a0d6-4797-a502-dc00534d40b6"
      },
      "source": [
        "!pwd"
      ],
      "execution_count": null,
      "outputs": [
        {
          "output_type": "stream",
          "text": [
            "/content/drive/My Drive/datasets\n"
          ],
          "name": "stdout"
        }
      ]
    },
    {
      "cell_type": "code",
      "metadata": {
        "id": "X8IPY4nqnaeS",
        "colab": {
          "base_uri": "https://localhost:8080/"
        },
        "outputId": "805b434f-a446-41a9-c668-44c79a8736c1"
      },
      "source": [
        "!ls"
      ],
      "execution_count": null,
      "outputs": [
        {
          "output_type": "stream",
          "text": [
            "olist_customers_dataset.csv\t  olist_products_dataset.csv\n",
            "olist_geolocation_dataset.csv\t  olist_sellers_dataset.csv\n",
            "olist_order_items_dataset.csv\t  product_category_name_translation.csv\n",
            "olist_order_payments_dataset.csv  tabela_resulta.csv\n",
            "olist_order_reviews_dataset.csv   tabela_result.csv\n",
            "olist_orders_dataset.csv\n"
          ],
          "name": "stdout"
        }
      ]
    },
    {
      "cell_type": "markdown",
      "metadata": {
        "id": "nWdV2dWYjiKs"
      },
      "source": [
        "**Importação das bibliotecas Pandas e Numpy**"
      ]
    },
    {
      "cell_type": "code",
      "metadata": {
        "id": "BlRCrISsoAW1"
      },
      "source": [
        "import pandas as pd\n",
        "import numpy as np"
      ],
      "execution_count": null,
      "outputs": []
    },
    {
      "cell_type": "markdown",
      "metadata": {
        "id": "ic3pDpAMjo_o"
      },
      "source": [
        "**Leitura dos tabelas .csv**"
      ]
    },
    {
      "cell_type": "code",
      "metadata": {
        "id": "zRiA7d0foUWQ"
      },
      "source": [
        "tabela_cliente = pd.read_csv('olist_customers_dataset.csv')\n",
        "tabela_localizacao = pd.read_csv('olist_geolocation_dataset.csv')\n",
        "tabela_pedido = pd.read_csv('olist_order_items_dataset.csv')\n",
        "tabela_pagamento = pd.read_csv('olist_order_payments_dataset.csv')\n",
        "tabela_review = pd.read_csv('olist_order_reviews_dataset.csv')\n",
        "tabela_entrega_pedido = pd.read_csv('olist_orders_dataset.csv')\n",
        "tabela_descricao_produto = pd.read_csv('olist_products_dataset.csv')\n",
        "tabela_vendedor = pd.read_csv('olist_sellers_dataset.csv')\n",
        "tabela_categoria_traduzido = pd.read_csv('product_category_name_translation.csv')"
      ],
      "execution_count": null,
      "outputs": []
    },
    {
      "cell_type": "markdown",
      "metadata": {
        "id": "9A4ikaMnkIcy"
      },
      "source": [
        "**Checagem dos 5 primeiros elementos de cada tabela**"
      ]
    },
    {
      "cell_type": "code",
      "metadata": {
        "colab": {
          "base_uri": "https://localhost:8080/",
          "height": 197
        },
        "id": "vhyWCLncrGX1",
        "outputId": "3249bb2d-d868-4c02-b4da-db2b97e486bd"
      },
      "source": [
        "tabela_cliente.head()"
      ],
      "execution_count": null,
      "outputs": [
        {
          "output_type": "execute_result",
          "data": {
            "text/html": [
              "<div>\n",
              "<style scoped>\n",
              "    .dataframe tbody tr th:only-of-type {\n",
              "        vertical-align: middle;\n",
              "    }\n",
              "\n",
              "    .dataframe tbody tr th {\n",
              "        vertical-align: top;\n",
              "    }\n",
              "\n",
              "    .dataframe thead th {\n",
              "        text-align: right;\n",
              "    }\n",
              "</style>\n",
              "<table border=\"1\" class=\"dataframe\">\n",
              "  <thead>\n",
              "    <tr style=\"text-align: right;\">\n",
              "      <th></th>\n",
              "      <th>customer_id</th>\n",
              "      <th>customer_unique_id</th>\n",
              "      <th>customer_zip_code_prefix</th>\n",
              "      <th>customer_city</th>\n",
              "      <th>customer_state</th>\n",
              "    </tr>\n",
              "  </thead>\n",
              "  <tbody>\n",
              "    <tr>\n",
              "      <th>0</th>\n",
              "      <td>06b8999e2fba1a1fbc88172c00ba8bc7</td>\n",
              "      <td>861eff4711a542e4b93843c6dd7febb0</td>\n",
              "      <td>14409</td>\n",
              "      <td>franca</td>\n",
              "      <td>SP</td>\n",
              "    </tr>\n",
              "    <tr>\n",
              "      <th>1</th>\n",
              "      <td>18955e83d337fd6b2def6b18a428ac77</td>\n",
              "      <td>290c77bc529b7ac935b93aa66c333dc3</td>\n",
              "      <td>9790</td>\n",
              "      <td>sao bernardo do campo</td>\n",
              "      <td>SP</td>\n",
              "    </tr>\n",
              "    <tr>\n",
              "      <th>2</th>\n",
              "      <td>4e7b3e00288586ebd08712fdd0374a03</td>\n",
              "      <td>060e732b5b29e8181a18229c7b0b2b5e</td>\n",
              "      <td>1151</td>\n",
              "      <td>sao paulo</td>\n",
              "      <td>SP</td>\n",
              "    </tr>\n",
              "    <tr>\n",
              "      <th>3</th>\n",
              "      <td>b2b6027bc5c5109e529d4dc6358b12c3</td>\n",
              "      <td>259dac757896d24d7702b9acbbff3f3c</td>\n",
              "      <td>8775</td>\n",
              "      <td>mogi das cruzes</td>\n",
              "      <td>SP</td>\n",
              "    </tr>\n",
              "    <tr>\n",
              "      <th>4</th>\n",
              "      <td>4f2d8ab171c80ec8364f7c12e35b23ad</td>\n",
              "      <td>345ecd01c38d18a9036ed96c73b8d066</td>\n",
              "      <td>13056</td>\n",
              "      <td>campinas</td>\n",
              "      <td>SP</td>\n",
              "    </tr>\n",
              "  </tbody>\n",
              "</table>\n",
              "</div>"
            ],
            "text/plain": [
              "                        customer_id  ... customer_state\n",
              "0  06b8999e2fba1a1fbc88172c00ba8bc7  ...             SP\n",
              "1  18955e83d337fd6b2def6b18a428ac77  ...             SP\n",
              "2  4e7b3e00288586ebd08712fdd0374a03  ...             SP\n",
              "3  b2b6027bc5c5109e529d4dc6358b12c3  ...             SP\n",
              "4  4f2d8ab171c80ec8364f7c12e35b23ad  ...             SP\n",
              "\n",
              "[5 rows x 5 columns]"
            ]
          },
          "metadata": {
            "tags": []
          },
          "execution_count": 75
        }
      ]
    },
    {
      "cell_type": "code",
      "metadata": {
        "colab": {
          "base_uri": "https://localhost:8080/",
          "height": 197
        },
        "id": "Z1lQrW3qsJJ_",
        "outputId": "b3d34a65-9082-4a50-de97-9acd9a382c14"
      },
      "source": [
        "tabela_localizacao.head()"
      ],
      "execution_count": null,
      "outputs": [
        {
          "output_type": "execute_result",
          "data": {
            "text/html": [
              "<div>\n",
              "<style scoped>\n",
              "    .dataframe tbody tr th:only-of-type {\n",
              "        vertical-align: middle;\n",
              "    }\n",
              "\n",
              "    .dataframe tbody tr th {\n",
              "        vertical-align: top;\n",
              "    }\n",
              "\n",
              "    .dataframe thead th {\n",
              "        text-align: right;\n",
              "    }\n",
              "</style>\n",
              "<table border=\"1\" class=\"dataframe\">\n",
              "  <thead>\n",
              "    <tr style=\"text-align: right;\">\n",
              "      <th></th>\n",
              "      <th>geolocation_zip_code_prefix</th>\n",
              "      <th>geolocation_lat</th>\n",
              "      <th>geolocation_lng</th>\n",
              "      <th>geolocation_city</th>\n",
              "      <th>geolocation_state</th>\n",
              "    </tr>\n",
              "  </thead>\n",
              "  <tbody>\n",
              "    <tr>\n",
              "      <th>0</th>\n",
              "      <td>1037</td>\n",
              "      <td>-23.545621</td>\n",
              "      <td>-46.639292</td>\n",
              "      <td>sao paulo</td>\n",
              "      <td>SP</td>\n",
              "    </tr>\n",
              "    <tr>\n",
              "      <th>1</th>\n",
              "      <td>1046</td>\n",
              "      <td>-23.546081</td>\n",
              "      <td>-46.644820</td>\n",
              "      <td>sao paulo</td>\n",
              "      <td>SP</td>\n",
              "    </tr>\n",
              "    <tr>\n",
              "      <th>2</th>\n",
              "      <td>1046</td>\n",
              "      <td>-23.546129</td>\n",
              "      <td>-46.642951</td>\n",
              "      <td>sao paulo</td>\n",
              "      <td>SP</td>\n",
              "    </tr>\n",
              "    <tr>\n",
              "      <th>3</th>\n",
              "      <td>1041</td>\n",
              "      <td>-23.544392</td>\n",
              "      <td>-46.639499</td>\n",
              "      <td>sao paulo</td>\n",
              "      <td>SP</td>\n",
              "    </tr>\n",
              "    <tr>\n",
              "      <th>4</th>\n",
              "      <td>1035</td>\n",
              "      <td>-23.541578</td>\n",
              "      <td>-46.641607</td>\n",
              "      <td>sao paulo</td>\n",
              "      <td>SP</td>\n",
              "    </tr>\n",
              "  </tbody>\n",
              "</table>\n",
              "</div>"
            ],
            "text/plain": [
              "   geolocation_zip_code_prefix  ...  geolocation_state\n",
              "0                         1037  ...                 SP\n",
              "1                         1046  ...                 SP\n",
              "2                         1046  ...                 SP\n",
              "3                         1041  ...                 SP\n",
              "4                         1035  ...                 SP\n",
              "\n",
              "[5 rows x 5 columns]"
            ]
          },
          "metadata": {
            "tags": []
          },
          "execution_count": 76
        }
      ]
    },
    {
      "cell_type": "code",
      "metadata": {
        "colab": {
          "base_uri": "https://localhost:8080/",
          "height": 197
        },
        "id": "3NjCvWr3sK8q",
        "outputId": "3efba991-93b7-44a4-d842-45123bdea64b"
      },
      "source": [
        "tabela_pedido.head()"
      ],
      "execution_count": null,
      "outputs": [
        {
          "output_type": "execute_result",
          "data": {
            "text/html": [
              "<div>\n",
              "<style scoped>\n",
              "    .dataframe tbody tr th:only-of-type {\n",
              "        vertical-align: middle;\n",
              "    }\n",
              "\n",
              "    .dataframe tbody tr th {\n",
              "        vertical-align: top;\n",
              "    }\n",
              "\n",
              "    .dataframe thead th {\n",
              "        text-align: right;\n",
              "    }\n",
              "</style>\n",
              "<table border=\"1\" class=\"dataframe\">\n",
              "  <thead>\n",
              "    <tr style=\"text-align: right;\">\n",
              "      <th></th>\n",
              "      <th>order_id</th>\n",
              "      <th>order_item_id</th>\n",
              "      <th>product_id</th>\n",
              "      <th>seller_id</th>\n",
              "      <th>shipping_limit_date</th>\n",
              "      <th>price</th>\n",
              "      <th>freight_value</th>\n",
              "    </tr>\n",
              "  </thead>\n",
              "  <tbody>\n",
              "    <tr>\n",
              "      <th>0</th>\n",
              "      <td>00010242fe8c5a6d1ba2dd792cb16214</td>\n",
              "      <td>1</td>\n",
              "      <td>4244733e06e7ecb4970a6e2683c13e61</td>\n",
              "      <td>48436dade18ac8b2bce089ec2a041202</td>\n",
              "      <td>2017-09-19 09:45:35</td>\n",
              "      <td>58.90</td>\n",
              "      <td>13.29</td>\n",
              "    </tr>\n",
              "    <tr>\n",
              "      <th>1</th>\n",
              "      <td>00018f77f2f0320c557190d7a144bdd3</td>\n",
              "      <td>1</td>\n",
              "      <td>e5f2d52b802189ee658865ca93d83a8f</td>\n",
              "      <td>dd7ddc04e1b6c2c614352b383efe2d36</td>\n",
              "      <td>2017-05-03 11:05:13</td>\n",
              "      <td>239.90</td>\n",
              "      <td>19.93</td>\n",
              "    </tr>\n",
              "    <tr>\n",
              "      <th>2</th>\n",
              "      <td>000229ec398224ef6ca0657da4fc703e</td>\n",
              "      <td>1</td>\n",
              "      <td>c777355d18b72b67abbeef9df44fd0fd</td>\n",
              "      <td>5b51032eddd242adc84c38acab88f23d</td>\n",
              "      <td>2018-01-18 14:48:30</td>\n",
              "      <td>199.00</td>\n",
              "      <td>17.87</td>\n",
              "    </tr>\n",
              "    <tr>\n",
              "      <th>3</th>\n",
              "      <td>00024acbcdf0a6daa1e931b038114c75</td>\n",
              "      <td>1</td>\n",
              "      <td>7634da152a4610f1595efa32f14722fc</td>\n",
              "      <td>9d7a1d34a5052409006425275ba1c2b4</td>\n",
              "      <td>2018-08-15 10:10:18</td>\n",
              "      <td>12.99</td>\n",
              "      <td>12.79</td>\n",
              "    </tr>\n",
              "    <tr>\n",
              "      <th>4</th>\n",
              "      <td>00042b26cf59d7ce69dfabb4e55b4fd9</td>\n",
              "      <td>1</td>\n",
              "      <td>ac6c3623068f30de03045865e4e10089</td>\n",
              "      <td>df560393f3a51e74553ab94004ba5c87</td>\n",
              "      <td>2017-02-13 13:57:51</td>\n",
              "      <td>199.90</td>\n",
              "      <td>18.14</td>\n",
              "    </tr>\n",
              "  </tbody>\n",
              "</table>\n",
              "</div>"
            ],
            "text/plain": [
              "                           order_id  order_item_id  ...   price freight_value\n",
              "0  00010242fe8c5a6d1ba2dd792cb16214              1  ...   58.90         13.29\n",
              "1  00018f77f2f0320c557190d7a144bdd3              1  ...  239.90         19.93\n",
              "2  000229ec398224ef6ca0657da4fc703e              1  ...  199.00         17.87\n",
              "3  00024acbcdf0a6daa1e931b038114c75              1  ...   12.99         12.79\n",
              "4  00042b26cf59d7ce69dfabb4e55b4fd9              1  ...  199.90         18.14\n",
              "\n",
              "[5 rows x 7 columns]"
            ]
          },
          "metadata": {
            "tags": []
          },
          "execution_count": 77
        }
      ]
    },
    {
      "cell_type": "code",
      "metadata": {
        "colab": {
          "base_uri": "https://localhost:8080/",
          "height": 197
        },
        "id": "p8B0Y0QZsQSP",
        "outputId": "9ddd178a-0f65-4790-bd70-b1b0ecba047a"
      },
      "source": [
        "tabela_pagamento.head()"
      ],
      "execution_count": null,
      "outputs": [
        {
          "output_type": "execute_result",
          "data": {
            "text/html": [
              "<div>\n",
              "<style scoped>\n",
              "    .dataframe tbody tr th:only-of-type {\n",
              "        vertical-align: middle;\n",
              "    }\n",
              "\n",
              "    .dataframe tbody tr th {\n",
              "        vertical-align: top;\n",
              "    }\n",
              "\n",
              "    .dataframe thead th {\n",
              "        text-align: right;\n",
              "    }\n",
              "</style>\n",
              "<table border=\"1\" class=\"dataframe\">\n",
              "  <thead>\n",
              "    <tr style=\"text-align: right;\">\n",
              "      <th></th>\n",
              "      <th>order_id</th>\n",
              "      <th>payment_sequential</th>\n",
              "      <th>payment_type</th>\n",
              "      <th>payment_installments</th>\n",
              "      <th>payment_value</th>\n",
              "    </tr>\n",
              "  </thead>\n",
              "  <tbody>\n",
              "    <tr>\n",
              "      <th>0</th>\n",
              "      <td>b81ef226f3fe1789b1e8b2acac839d17</td>\n",
              "      <td>1</td>\n",
              "      <td>credit_card</td>\n",
              "      <td>8</td>\n",
              "      <td>99.33</td>\n",
              "    </tr>\n",
              "    <tr>\n",
              "      <th>1</th>\n",
              "      <td>a9810da82917af2d9aefd1278f1dcfa0</td>\n",
              "      <td>1</td>\n",
              "      <td>credit_card</td>\n",
              "      <td>1</td>\n",
              "      <td>24.39</td>\n",
              "    </tr>\n",
              "    <tr>\n",
              "      <th>2</th>\n",
              "      <td>25e8ea4e93396b6fa0d3dd708e76c1bd</td>\n",
              "      <td>1</td>\n",
              "      <td>credit_card</td>\n",
              "      <td>1</td>\n",
              "      <td>65.71</td>\n",
              "    </tr>\n",
              "    <tr>\n",
              "      <th>3</th>\n",
              "      <td>ba78997921bbcdc1373bb41e913ab953</td>\n",
              "      <td>1</td>\n",
              "      <td>credit_card</td>\n",
              "      <td>8</td>\n",
              "      <td>107.78</td>\n",
              "    </tr>\n",
              "    <tr>\n",
              "      <th>4</th>\n",
              "      <td>42fdf880ba16b47b59251dd489d4441a</td>\n",
              "      <td>1</td>\n",
              "      <td>credit_card</td>\n",
              "      <td>2</td>\n",
              "      <td>128.45</td>\n",
              "    </tr>\n",
              "  </tbody>\n",
              "</table>\n",
              "</div>"
            ],
            "text/plain": [
              "                           order_id  ...  payment_value\n",
              "0  b81ef226f3fe1789b1e8b2acac839d17  ...          99.33\n",
              "1  a9810da82917af2d9aefd1278f1dcfa0  ...          24.39\n",
              "2  25e8ea4e93396b6fa0d3dd708e76c1bd  ...          65.71\n",
              "3  ba78997921bbcdc1373bb41e913ab953  ...         107.78\n",
              "4  42fdf880ba16b47b59251dd489d4441a  ...         128.45\n",
              "\n",
              "[5 rows x 5 columns]"
            ]
          },
          "metadata": {
            "tags": []
          },
          "execution_count": 78
        }
      ]
    },
    {
      "cell_type": "code",
      "metadata": {
        "colab": {
          "base_uri": "https://localhost:8080/",
          "height": 197
        },
        "id": "PiEeBr0SsV09",
        "outputId": "5a4101b3-2a6c-41bc-8826-03473b3da038"
      },
      "source": [
        "tabela_review.head()"
      ],
      "execution_count": null,
      "outputs": [
        {
          "output_type": "execute_result",
          "data": {
            "text/html": [
              "<div>\n",
              "<style scoped>\n",
              "    .dataframe tbody tr th:only-of-type {\n",
              "        vertical-align: middle;\n",
              "    }\n",
              "\n",
              "    .dataframe tbody tr th {\n",
              "        vertical-align: top;\n",
              "    }\n",
              "\n",
              "    .dataframe thead th {\n",
              "        text-align: right;\n",
              "    }\n",
              "</style>\n",
              "<table border=\"1\" class=\"dataframe\">\n",
              "  <thead>\n",
              "    <tr style=\"text-align: right;\">\n",
              "      <th></th>\n",
              "      <th>review_id</th>\n",
              "      <th>order_id</th>\n",
              "      <th>review_score</th>\n",
              "      <th>review_comment_title</th>\n",
              "      <th>review_comment_message</th>\n",
              "      <th>review_creation_date</th>\n",
              "      <th>review_answer_timestamp</th>\n",
              "    </tr>\n",
              "  </thead>\n",
              "  <tbody>\n",
              "    <tr>\n",
              "      <th>0</th>\n",
              "      <td>7bc2406110b926393aa56f80a40eba40</td>\n",
              "      <td>73fc7af87114b39712e6da79b0a377eb</td>\n",
              "      <td>4</td>\n",
              "      <td>NaN</td>\n",
              "      <td>NaN</td>\n",
              "      <td>2018-01-18 00:00:00</td>\n",
              "      <td>2018-01-18 21:46:59</td>\n",
              "    </tr>\n",
              "    <tr>\n",
              "      <th>1</th>\n",
              "      <td>80e641a11e56f04c1ad469d5645fdfde</td>\n",
              "      <td>a548910a1c6147796b98fdf73dbeba33</td>\n",
              "      <td>5</td>\n",
              "      <td>NaN</td>\n",
              "      <td>NaN</td>\n",
              "      <td>2018-03-10 00:00:00</td>\n",
              "      <td>2018-03-11 03:05:13</td>\n",
              "    </tr>\n",
              "    <tr>\n",
              "      <th>2</th>\n",
              "      <td>228ce5500dc1d8e020d8d1322874b6f0</td>\n",
              "      <td>f9e4b658b201a9f2ecdecbb34bed034b</td>\n",
              "      <td>5</td>\n",
              "      <td>NaN</td>\n",
              "      <td>NaN</td>\n",
              "      <td>2018-02-17 00:00:00</td>\n",
              "      <td>2018-02-18 14:36:24</td>\n",
              "    </tr>\n",
              "    <tr>\n",
              "      <th>3</th>\n",
              "      <td>e64fb393e7b32834bb789ff8bb30750e</td>\n",
              "      <td>658677c97b385a9be170737859d3511b</td>\n",
              "      <td>5</td>\n",
              "      <td>NaN</td>\n",
              "      <td>Recebi bem antes do prazo estipulado.</td>\n",
              "      <td>2017-04-21 00:00:00</td>\n",
              "      <td>2017-04-21 22:02:06</td>\n",
              "    </tr>\n",
              "    <tr>\n",
              "      <th>4</th>\n",
              "      <td>f7c4243c7fe1938f181bec41a392bdeb</td>\n",
              "      <td>8e6bfb81e283fa7e4f11123a3fb894f1</td>\n",
              "      <td>5</td>\n",
              "      <td>NaN</td>\n",
              "      <td>Parabéns lojas lannister adorei comprar pela I...</td>\n",
              "      <td>2018-03-01 00:00:00</td>\n",
              "      <td>2018-03-02 10:26:53</td>\n",
              "    </tr>\n",
              "  </tbody>\n",
              "</table>\n",
              "</div>"
            ],
            "text/plain": [
              "                          review_id  ... review_answer_timestamp\n",
              "0  7bc2406110b926393aa56f80a40eba40  ...     2018-01-18 21:46:59\n",
              "1  80e641a11e56f04c1ad469d5645fdfde  ...     2018-03-11 03:05:13\n",
              "2  228ce5500dc1d8e020d8d1322874b6f0  ...     2018-02-18 14:36:24\n",
              "3  e64fb393e7b32834bb789ff8bb30750e  ...     2017-04-21 22:02:06\n",
              "4  f7c4243c7fe1938f181bec41a392bdeb  ...     2018-03-02 10:26:53\n",
              "\n",
              "[5 rows x 7 columns]"
            ]
          },
          "metadata": {
            "tags": []
          },
          "execution_count": 79
        }
      ]
    },
    {
      "cell_type": "code",
      "metadata": {
        "colab": {
          "base_uri": "https://localhost:8080/",
          "height": 217
        },
        "id": "HFcJGmwZsYe_",
        "outputId": "d3343b58-8ddc-4975-a542-3058b891dfb2"
      },
      "source": [
        "tabela_entrega_pedido.head()"
      ],
      "execution_count": null,
      "outputs": [
        {
          "output_type": "execute_result",
          "data": {
            "text/html": [
              "<div>\n",
              "<style scoped>\n",
              "    .dataframe tbody tr th:only-of-type {\n",
              "        vertical-align: middle;\n",
              "    }\n",
              "\n",
              "    .dataframe tbody tr th {\n",
              "        vertical-align: top;\n",
              "    }\n",
              "\n",
              "    .dataframe thead th {\n",
              "        text-align: right;\n",
              "    }\n",
              "</style>\n",
              "<table border=\"1\" class=\"dataframe\">\n",
              "  <thead>\n",
              "    <tr style=\"text-align: right;\">\n",
              "      <th></th>\n",
              "      <th>order_id</th>\n",
              "      <th>customer_id</th>\n",
              "      <th>order_status</th>\n",
              "      <th>order_purchase_timestamp</th>\n",
              "      <th>order_approved_at</th>\n",
              "      <th>order_delivered_carrier_date</th>\n",
              "      <th>order_delivered_customer_date</th>\n",
              "      <th>order_estimated_delivery_date</th>\n",
              "    </tr>\n",
              "  </thead>\n",
              "  <tbody>\n",
              "    <tr>\n",
              "      <th>0</th>\n",
              "      <td>e481f51cbdc54678b7cc49136f2d6af7</td>\n",
              "      <td>9ef432eb6251297304e76186b10a928d</td>\n",
              "      <td>delivered</td>\n",
              "      <td>2017-10-02 10:56:33</td>\n",
              "      <td>2017-10-02 11:07:15</td>\n",
              "      <td>2017-10-04 19:55:00</td>\n",
              "      <td>2017-10-10 21:25:13</td>\n",
              "      <td>2017-10-18 00:00:00</td>\n",
              "    </tr>\n",
              "    <tr>\n",
              "      <th>1</th>\n",
              "      <td>53cdb2fc8bc7dce0b6741e2150273451</td>\n",
              "      <td>b0830fb4747a6c6d20dea0b8c802d7ef</td>\n",
              "      <td>delivered</td>\n",
              "      <td>2018-07-24 20:41:37</td>\n",
              "      <td>2018-07-26 03:24:27</td>\n",
              "      <td>2018-07-26 14:31:00</td>\n",
              "      <td>2018-08-07 15:27:45</td>\n",
              "      <td>2018-08-13 00:00:00</td>\n",
              "    </tr>\n",
              "    <tr>\n",
              "      <th>2</th>\n",
              "      <td>47770eb9100c2d0c44946d9cf07ec65d</td>\n",
              "      <td>41ce2a54c0b03bf3443c3d931a367089</td>\n",
              "      <td>delivered</td>\n",
              "      <td>2018-08-08 08:38:49</td>\n",
              "      <td>2018-08-08 08:55:23</td>\n",
              "      <td>2018-08-08 13:50:00</td>\n",
              "      <td>2018-08-17 18:06:29</td>\n",
              "      <td>2018-09-04 00:00:00</td>\n",
              "    </tr>\n",
              "    <tr>\n",
              "      <th>3</th>\n",
              "      <td>949d5b44dbf5de918fe9c16f97b45f8a</td>\n",
              "      <td>f88197465ea7920adcdbec7375364d82</td>\n",
              "      <td>delivered</td>\n",
              "      <td>2017-11-18 19:28:06</td>\n",
              "      <td>2017-11-18 19:45:59</td>\n",
              "      <td>2017-11-22 13:39:59</td>\n",
              "      <td>2017-12-02 00:28:42</td>\n",
              "      <td>2017-12-15 00:00:00</td>\n",
              "    </tr>\n",
              "    <tr>\n",
              "      <th>4</th>\n",
              "      <td>ad21c59c0840e6cb83a9ceb5573f8159</td>\n",
              "      <td>8ab97904e6daea8866dbdbc4fb7aad2c</td>\n",
              "      <td>delivered</td>\n",
              "      <td>2018-02-13 21:18:39</td>\n",
              "      <td>2018-02-13 22:20:29</td>\n",
              "      <td>2018-02-14 19:46:34</td>\n",
              "      <td>2018-02-16 18:17:02</td>\n",
              "      <td>2018-02-26 00:00:00</td>\n",
              "    </tr>\n",
              "  </tbody>\n",
              "</table>\n",
              "</div>"
            ],
            "text/plain": [
              "                           order_id  ... order_estimated_delivery_date\n",
              "0  e481f51cbdc54678b7cc49136f2d6af7  ...           2017-10-18 00:00:00\n",
              "1  53cdb2fc8bc7dce0b6741e2150273451  ...           2018-08-13 00:00:00\n",
              "2  47770eb9100c2d0c44946d9cf07ec65d  ...           2018-09-04 00:00:00\n",
              "3  949d5b44dbf5de918fe9c16f97b45f8a  ...           2017-12-15 00:00:00\n",
              "4  ad21c59c0840e6cb83a9ceb5573f8159  ...           2018-02-26 00:00:00\n",
              "\n",
              "[5 rows x 8 columns]"
            ]
          },
          "metadata": {
            "tags": []
          },
          "execution_count": 80
        }
      ]
    },
    {
      "cell_type": "code",
      "metadata": {
        "colab": {
          "base_uri": "https://localhost:8080/",
          "height": 197
        },
        "id": "nUGAv-KksgHu",
        "outputId": "f464514f-c747-4bff-f44a-a9dc9895eac7"
      },
      "source": [
        "tabela_descricao_produto.head()"
      ],
      "execution_count": null,
      "outputs": [
        {
          "output_type": "execute_result",
          "data": {
            "text/html": [
              "<div>\n",
              "<style scoped>\n",
              "    .dataframe tbody tr th:only-of-type {\n",
              "        vertical-align: middle;\n",
              "    }\n",
              "\n",
              "    .dataframe tbody tr th {\n",
              "        vertical-align: top;\n",
              "    }\n",
              "\n",
              "    .dataframe thead th {\n",
              "        text-align: right;\n",
              "    }\n",
              "</style>\n",
              "<table border=\"1\" class=\"dataframe\">\n",
              "  <thead>\n",
              "    <tr style=\"text-align: right;\">\n",
              "      <th></th>\n",
              "      <th>product_id</th>\n",
              "      <th>product_category_name</th>\n",
              "      <th>product_name_lenght</th>\n",
              "      <th>product_description_lenght</th>\n",
              "      <th>product_photos_qty</th>\n",
              "      <th>product_weight_g</th>\n",
              "      <th>product_length_cm</th>\n",
              "      <th>product_height_cm</th>\n",
              "      <th>product_width_cm</th>\n",
              "    </tr>\n",
              "  </thead>\n",
              "  <tbody>\n",
              "    <tr>\n",
              "      <th>0</th>\n",
              "      <td>1e9e8ef04dbcff4541ed26657ea517e5</td>\n",
              "      <td>perfumaria</td>\n",
              "      <td>40.0</td>\n",
              "      <td>287.0</td>\n",
              "      <td>1.0</td>\n",
              "      <td>225.0</td>\n",
              "      <td>16.0</td>\n",
              "      <td>10.0</td>\n",
              "      <td>14.0</td>\n",
              "    </tr>\n",
              "    <tr>\n",
              "      <th>1</th>\n",
              "      <td>3aa071139cb16b67ca9e5dea641aaa2f</td>\n",
              "      <td>artes</td>\n",
              "      <td>44.0</td>\n",
              "      <td>276.0</td>\n",
              "      <td>1.0</td>\n",
              "      <td>1000.0</td>\n",
              "      <td>30.0</td>\n",
              "      <td>18.0</td>\n",
              "      <td>20.0</td>\n",
              "    </tr>\n",
              "    <tr>\n",
              "      <th>2</th>\n",
              "      <td>96bd76ec8810374ed1b65e291975717f</td>\n",
              "      <td>esporte_lazer</td>\n",
              "      <td>46.0</td>\n",
              "      <td>250.0</td>\n",
              "      <td>1.0</td>\n",
              "      <td>154.0</td>\n",
              "      <td>18.0</td>\n",
              "      <td>9.0</td>\n",
              "      <td>15.0</td>\n",
              "    </tr>\n",
              "    <tr>\n",
              "      <th>3</th>\n",
              "      <td>cef67bcfe19066a932b7673e239eb23d</td>\n",
              "      <td>bebes</td>\n",
              "      <td>27.0</td>\n",
              "      <td>261.0</td>\n",
              "      <td>1.0</td>\n",
              "      <td>371.0</td>\n",
              "      <td>26.0</td>\n",
              "      <td>4.0</td>\n",
              "      <td>26.0</td>\n",
              "    </tr>\n",
              "    <tr>\n",
              "      <th>4</th>\n",
              "      <td>9dc1a7de274444849c219cff195d0b71</td>\n",
              "      <td>utilidades_domesticas</td>\n",
              "      <td>37.0</td>\n",
              "      <td>402.0</td>\n",
              "      <td>4.0</td>\n",
              "      <td>625.0</td>\n",
              "      <td>20.0</td>\n",
              "      <td>17.0</td>\n",
              "      <td>13.0</td>\n",
              "    </tr>\n",
              "  </tbody>\n",
              "</table>\n",
              "</div>"
            ],
            "text/plain": [
              "                         product_id  ... product_width_cm\n",
              "0  1e9e8ef04dbcff4541ed26657ea517e5  ...             14.0\n",
              "1  3aa071139cb16b67ca9e5dea641aaa2f  ...             20.0\n",
              "2  96bd76ec8810374ed1b65e291975717f  ...             15.0\n",
              "3  cef67bcfe19066a932b7673e239eb23d  ...             26.0\n",
              "4  9dc1a7de274444849c219cff195d0b71  ...             13.0\n",
              "\n",
              "[5 rows x 9 columns]"
            ]
          },
          "metadata": {
            "tags": []
          },
          "execution_count": 81
        }
      ]
    },
    {
      "cell_type": "code",
      "metadata": {
        "colab": {
          "base_uri": "https://localhost:8080/",
          "height": 197
        },
        "id": "p2RUDHKfsk7e",
        "outputId": "f973414b-2fe8-4c3c-ff1b-2a300b354554"
      },
      "source": [
        "tabela_vendedor.head()"
      ],
      "execution_count": null,
      "outputs": [
        {
          "output_type": "execute_result",
          "data": {
            "text/html": [
              "<div>\n",
              "<style scoped>\n",
              "    .dataframe tbody tr th:only-of-type {\n",
              "        vertical-align: middle;\n",
              "    }\n",
              "\n",
              "    .dataframe tbody tr th {\n",
              "        vertical-align: top;\n",
              "    }\n",
              "\n",
              "    .dataframe thead th {\n",
              "        text-align: right;\n",
              "    }\n",
              "</style>\n",
              "<table border=\"1\" class=\"dataframe\">\n",
              "  <thead>\n",
              "    <tr style=\"text-align: right;\">\n",
              "      <th></th>\n",
              "      <th>seller_id</th>\n",
              "      <th>seller_zip_code_prefix</th>\n",
              "      <th>seller_city</th>\n",
              "      <th>seller_state</th>\n",
              "    </tr>\n",
              "  </thead>\n",
              "  <tbody>\n",
              "    <tr>\n",
              "      <th>0</th>\n",
              "      <td>3442f8959a84dea7ee197c632cb2df15</td>\n",
              "      <td>13023</td>\n",
              "      <td>campinas</td>\n",
              "      <td>SP</td>\n",
              "    </tr>\n",
              "    <tr>\n",
              "      <th>1</th>\n",
              "      <td>d1b65fc7debc3361ea86b5f14c68d2e2</td>\n",
              "      <td>13844</td>\n",
              "      <td>mogi guacu</td>\n",
              "      <td>SP</td>\n",
              "    </tr>\n",
              "    <tr>\n",
              "      <th>2</th>\n",
              "      <td>ce3ad9de960102d0677a81f5d0bb7b2d</td>\n",
              "      <td>20031</td>\n",
              "      <td>rio de janeiro</td>\n",
              "      <td>RJ</td>\n",
              "    </tr>\n",
              "    <tr>\n",
              "      <th>3</th>\n",
              "      <td>c0f3eea2e14555b6faeea3dd58c1b1c3</td>\n",
              "      <td>4195</td>\n",
              "      <td>sao paulo</td>\n",
              "      <td>SP</td>\n",
              "    </tr>\n",
              "    <tr>\n",
              "      <th>4</th>\n",
              "      <td>51a04a8a6bdcb23deccc82b0b80742cf</td>\n",
              "      <td>12914</td>\n",
              "      <td>braganca paulista</td>\n",
              "      <td>SP</td>\n",
              "    </tr>\n",
              "  </tbody>\n",
              "</table>\n",
              "</div>"
            ],
            "text/plain": [
              "                          seller_id  ...  seller_state\n",
              "0  3442f8959a84dea7ee197c632cb2df15  ...            SP\n",
              "1  d1b65fc7debc3361ea86b5f14c68d2e2  ...            SP\n",
              "2  ce3ad9de960102d0677a81f5d0bb7b2d  ...            RJ\n",
              "3  c0f3eea2e14555b6faeea3dd58c1b1c3  ...            SP\n",
              "4  51a04a8a6bdcb23deccc82b0b80742cf  ...            SP\n",
              "\n",
              "[5 rows x 4 columns]"
            ]
          },
          "metadata": {
            "tags": []
          },
          "execution_count": 82
        }
      ]
    },
    {
      "cell_type": "code",
      "metadata": {
        "colab": {
          "base_uri": "https://localhost:8080/",
          "height": 197
        },
        "id": "0nGneeeCsrpD",
        "outputId": "70c19788-9301-4344-8877-36dcf5097045"
      },
      "source": [
        "tabela_categoria_traduzido.head()"
      ],
      "execution_count": null,
      "outputs": [
        {
          "output_type": "execute_result",
          "data": {
            "text/html": [
              "<div>\n",
              "<style scoped>\n",
              "    .dataframe tbody tr th:only-of-type {\n",
              "        vertical-align: middle;\n",
              "    }\n",
              "\n",
              "    .dataframe tbody tr th {\n",
              "        vertical-align: top;\n",
              "    }\n",
              "\n",
              "    .dataframe thead th {\n",
              "        text-align: right;\n",
              "    }\n",
              "</style>\n",
              "<table border=\"1\" class=\"dataframe\">\n",
              "  <thead>\n",
              "    <tr style=\"text-align: right;\">\n",
              "      <th></th>\n",
              "      <th>product_category_name</th>\n",
              "      <th>product_category_name_english</th>\n",
              "    </tr>\n",
              "  </thead>\n",
              "  <tbody>\n",
              "    <tr>\n",
              "      <th>0</th>\n",
              "      <td>beleza_saude</td>\n",
              "      <td>health_beauty</td>\n",
              "    </tr>\n",
              "    <tr>\n",
              "      <th>1</th>\n",
              "      <td>informatica_acessorios</td>\n",
              "      <td>computers_accessories</td>\n",
              "    </tr>\n",
              "    <tr>\n",
              "      <th>2</th>\n",
              "      <td>automotivo</td>\n",
              "      <td>auto</td>\n",
              "    </tr>\n",
              "    <tr>\n",
              "      <th>3</th>\n",
              "      <td>cama_mesa_banho</td>\n",
              "      <td>bed_bath_table</td>\n",
              "    </tr>\n",
              "    <tr>\n",
              "      <th>4</th>\n",
              "      <td>moveis_decoracao</td>\n",
              "      <td>furniture_decor</td>\n",
              "    </tr>\n",
              "  </tbody>\n",
              "</table>\n",
              "</div>"
            ],
            "text/plain": [
              "    product_category_name product_category_name_english\n",
              "0            beleza_saude                 health_beauty\n",
              "1  informatica_acessorios         computers_accessories\n",
              "2              automotivo                          auto\n",
              "3         cama_mesa_banho                bed_bath_table\n",
              "4        moveis_decoracao               furniture_decor"
            ]
          },
          "metadata": {
            "tags": []
          },
          "execution_count": 83
        }
      ]
    },
    {
      "cell_type": "markdown",
      "metadata": {
        "id": "HMbzhNcBkO3n"
      },
      "source": [
        "**Início do processo de união das 9 tabelas disponibilizadas com a finalidade de produzir uma tabela resultante que possua os elementos mais importantes para a determinação do review_score. No primero merge realizado, unimos a tabela de clientes com as respectivas entregas dos pedidos usando o código individual de cada consumidor como parâmetro.**"
      ]
    },
    {
      "cell_type": "code",
      "metadata": {
        "colab": {
          "base_uri": "https://localhost:8080/",
          "height": 460
        },
        "id": "X-g-qw1L2RDs",
        "outputId": "c5b83310-be17-46bb-f691-0c1dd52fc661"
      },
      "source": [
        "pd.merge(tabela_cliente, tabela_entrega_pedido, on=[\"customer_id\"], how=\"inner\")"
      ],
      "execution_count": null,
      "outputs": [
        {
          "output_type": "execute_result",
          "data": {
            "text/html": [
              "<div>\n",
              "<style scoped>\n",
              "    .dataframe tbody tr th:only-of-type {\n",
              "        vertical-align: middle;\n",
              "    }\n",
              "\n",
              "    .dataframe tbody tr th {\n",
              "        vertical-align: top;\n",
              "    }\n",
              "\n",
              "    .dataframe thead th {\n",
              "        text-align: right;\n",
              "    }\n",
              "</style>\n",
              "<table border=\"1\" class=\"dataframe\">\n",
              "  <thead>\n",
              "    <tr style=\"text-align: right;\">\n",
              "      <th></th>\n",
              "      <th>customer_id</th>\n",
              "      <th>customer_unique_id</th>\n",
              "      <th>customer_zip_code_prefix</th>\n",
              "      <th>customer_city</th>\n",
              "      <th>customer_state</th>\n",
              "      <th>order_id</th>\n",
              "      <th>order_status</th>\n",
              "      <th>order_purchase_timestamp</th>\n",
              "      <th>order_approved_at</th>\n",
              "      <th>order_delivered_carrier_date</th>\n",
              "      <th>order_delivered_customer_date</th>\n",
              "      <th>order_estimated_delivery_date</th>\n",
              "    </tr>\n",
              "  </thead>\n",
              "  <tbody>\n",
              "    <tr>\n",
              "      <th>0</th>\n",
              "      <td>06b8999e2fba1a1fbc88172c00ba8bc7</td>\n",
              "      <td>861eff4711a542e4b93843c6dd7febb0</td>\n",
              "      <td>14409</td>\n",
              "      <td>franca</td>\n",
              "      <td>SP</td>\n",
              "      <td>00e7ee1b050b8499577073aeb2a297a1</td>\n",
              "      <td>delivered</td>\n",
              "      <td>2017-05-16 15:05:35</td>\n",
              "      <td>2017-05-16 15:22:12</td>\n",
              "      <td>2017-05-23 10:47:57</td>\n",
              "      <td>2017-05-25 10:35:35</td>\n",
              "      <td>2017-06-05 00:00:00</td>\n",
              "    </tr>\n",
              "    <tr>\n",
              "      <th>1</th>\n",
              "      <td>18955e83d337fd6b2def6b18a428ac77</td>\n",
              "      <td>290c77bc529b7ac935b93aa66c333dc3</td>\n",
              "      <td>9790</td>\n",
              "      <td>sao bernardo do campo</td>\n",
              "      <td>SP</td>\n",
              "      <td>29150127e6685892b6eab3eec79f59c7</td>\n",
              "      <td>delivered</td>\n",
              "      <td>2018-01-12 20:48:24</td>\n",
              "      <td>2018-01-12 20:58:32</td>\n",
              "      <td>2018-01-15 17:14:59</td>\n",
              "      <td>2018-01-29 12:41:19</td>\n",
              "      <td>2018-02-06 00:00:00</td>\n",
              "    </tr>\n",
              "    <tr>\n",
              "      <th>2</th>\n",
              "      <td>4e7b3e00288586ebd08712fdd0374a03</td>\n",
              "      <td>060e732b5b29e8181a18229c7b0b2b5e</td>\n",
              "      <td>1151</td>\n",
              "      <td>sao paulo</td>\n",
              "      <td>SP</td>\n",
              "      <td>b2059ed67ce144a36e2aa97d2c9e9ad2</td>\n",
              "      <td>delivered</td>\n",
              "      <td>2018-05-19 16:07:45</td>\n",
              "      <td>2018-05-20 16:19:10</td>\n",
              "      <td>2018-06-11 14:31:00</td>\n",
              "      <td>2018-06-14 17:58:51</td>\n",
              "      <td>2018-06-13 00:00:00</td>\n",
              "    </tr>\n",
              "    <tr>\n",
              "      <th>3</th>\n",
              "      <td>b2b6027bc5c5109e529d4dc6358b12c3</td>\n",
              "      <td>259dac757896d24d7702b9acbbff3f3c</td>\n",
              "      <td>8775</td>\n",
              "      <td>mogi das cruzes</td>\n",
              "      <td>SP</td>\n",
              "      <td>951670f92359f4fe4a63112aa7306eba</td>\n",
              "      <td>delivered</td>\n",
              "      <td>2018-03-13 16:06:38</td>\n",
              "      <td>2018-03-13 17:29:19</td>\n",
              "      <td>2018-03-27 23:22:42</td>\n",
              "      <td>2018-03-28 16:04:25</td>\n",
              "      <td>2018-04-10 00:00:00</td>\n",
              "    </tr>\n",
              "    <tr>\n",
              "      <th>4</th>\n",
              "      <td>4f2d8ab171c80ec8364f7c12e35b23ad</td>\n",
              "      <td>345ecd01c38d18a9036ed96c73b8d066</td>\n",
              "      <td>13056</td>\n",
              "      <td>campinas</td>\n",
              "      <td>SP</td>\n",
              "      <td>6b7d50bd145f6fc7f33cebabd7e49d0f</td>\n",
              "      <td>delivered</td>\n",
              "      <td>2018-07-29 09:51:30</td>\n",
              "      <td>2018-07-29 10:10:09</td>\n",
              "      <td>2018-07-30 15:16:00</td>\n",
              "      <td>2018-08-09 20:55:48</td>\n",
              "      <td>2018-08-15 00:00:00</td>\n",
              "    </tr>\n",
              "    <tr>\n",
              "      <th>...</th>\n",
              "      <td>...</td>\n",
              "      <td>...</td>\n",
              "      <td>...</td>\n",
              "      <td>...</td>\n",
              "      <td>...</td>\n",
              "      <td>...</td>\n",
              "      <td>...</td>\n",
              "      <td>...</td>\n",
              "      <td>...</td>\n",
              "      <td>...</td>\n",
              "      <td>...</td>\n",
              "      <td>...</td>\n",
              "    </tr>\n",
              "    <tr>\n",
              "      <th>99436</th>\n",
              "      <td>17ddf5dd5d51696bb3d7c6291687be6f</td>\n",
              "      <td>1a29b476fee25c95fbafc67c5ac95cf8</td>\n",
              "      <td>3937</td>\n",
              "      <td>sao paulo</td>\n",
              "      <td>SP</td>\n",
              "      <td>6760e20addcf0121e9d58f2f1ff14298</td>\n",
              "      <td>delivered</td>\n",
              "      <td>2018-04-07 15:48:17</td>\n",
              "      <td>2018-04-07 16:08:45</td>\n",
              "      <td>2018-04-11 02:08:36</td>\n",
              "      <td>2018-04-13 20:06:37</td>\n",
              "      <td>2018-04-25 00:00:00</td>\n",
              "    </tr>\n",
              "    <tr>\n",
              "      <th>99437</th>\n",
              "      <td>e7b71a9017aa05c9a7fd292d714858e8</td>\n",
              "      <td>d52a67c98be1cf6a5c84435bd38d095d</td>\n",
              "      <td>6764</td>\n",
              "      <td>taboao da serra</td>\n",
              "      <td>SP</td>\n",
              "      <td>9ec0c8947d973db4f4e8dcf1fbfa8f1b</td>\n",
              "      <td>delivered</td>\n",
              "      <td>2018-04-04 08:20:22</td>\n",
              "      <td>2018-04-04 08:35:12</td>\n",
              "      <td>2018-04-05 18:42:35</td>\n",
              "      <td>2018-04-11 18:54:45</td>\n",
              "      <td>2018-04-20 00:00:00</td>\n",
              "    </tr>\n",
              "    <tr>\n",
              "      <th>99438</th>\n",
              "      <td>5e28dfe12db7fb50a4b2f691faecea5e</td>\n",
              "      <td>e9f50caf99f032f0bf3c55141f019d99</td>\n",
              "      <td>60115</td>\n",
              "      <td>fortaleza</td>\n",
              "      <td>CE</td>\n",
              "      <td>fed4434add09a6f332ea398efd656a5c</td>\n",
              "      <td>delivered</td>\n",
              "      <td>2018-04-08 20:11:50</td>\n",
              "      <td>2018-04-08 20:30:03</td>\n",
              "      <td>2018-04-09 17:52:17</td>\n",
              "      <td>2018-05-09 19:03:15</td>\n",
              "      <td>2018-05-02 00:00:00</td>\n",
              "    </tr>\n",
              "    <tr>\n",
              "      <th>99439</th>\n",
              "      <td>56b18e2166679b8a959d72dd06da27f9</td>\n",
              "      <td>73c2643a0a458b49f58cea58833b192e</td>\n",
              "      <td>92120</td>\n",
              "      <td>canoas</td>\n",
              "      <td>RS</td>\n",
              "      <td>e31ec91cea1ecf97797787471f98a8c2</td>\n",
              "      <td>delivered</td>\n",
              "      <td>2017-11-03 21:08:33</td>\n",
              "      <td>2017-11-03 21:31:20</td>\n",
              "      <td>2017-11-06 18:24:41</td>\n",
              "      <td>2017-11-16 19:58:39</td>\n",
              "      <td>2017-12-05 00:00:00</td>\n",
              "    </tr>\n",
              "    <tr>\n",
              "      <th>99440</th>\n",
              "      <td>274fa6071e5e17fe303b9748641082c8</td>\n",
              "      <td>84732c5050c01db9b23e19ba39899398</td>\n",
              "      <td>6703</td>\n",
              "      <td>cotia</td>\n",
              "      <td>SP</td>\n",
              "      <td>28db69209a75e59f20ccbb5c36a20b90</td>\n",
              "      <td>delivered</td>\n",
              "      <td>2017-12-19 14:27:23</td>\n",
              "      <td>2017-12-19 18:50:39</td>\n",
              "      <td>2017-12-21 19:17:21</td>\n",
              "      <td>2017-12-26 18:42:36</td>\n",
              "      <td>2018-01-08 00:00:00</td>\n",
              "    </tr>\n",
              "  </tbody>\n",
              "</table>\n",
              "<p>99441 rows × 12 columns</p>\n",
              "</div>"
            ],
            "text/plain": [
              "                            customer_id  ... order_estimated_delivery_date\n",
              "0      06b8999e2fba1a1fbc88172c00ba8bc7  ...           2017-06-05 00:00:00\n",
              "1      18955e83d337fd6b2def6b18a428ac77  ...           2018-02-06 00:00:00\n",
              "2      4e7b3e00288586ebd08712fdd0374a03  ...           2018-06-13 00:00:00\n",
              "3      b2b6027bc5c5109e529d4dc6358b12c3  ...           2018-04-10 00:00:00\n",
              "4      4f2d8ab171c80ec8364f7c12e35b23ad  ...           2018-08-15 00:00:00\n",
              "...                                 ...  ...                           ...\n",
              "99436  17ddf5dd5d51696bb3d7c6291687be6f  ...           2018-04-25 00:00:00\n",
              "99437  e7b71a9017aa05c9a7fd292d714858e8  ...           2018-04-20 00:00:00\n",
              "99438  5e28dfe12db7fb50a4b2f691faecea5e  ...           2018-05-02 00:00:00\n",
              "99439  56b18e2166679b8a959d72dd06da27f9  ...           2017-12-05 00:00:00\n",
              "99440  274fa6071e5e17fe303b9748641082c8  ...           2018-01-08 00:00:00\n",
              "\n",
              "[99441 rows x 12 columns]"
            ]
          },
          "metadata": {
            "tags": []
          },
          "execution_count": 84
        }
      ]
    },
    {
      "cell_type": "markdown",
      "metadata": {
        "id": "tCK8g_SMlBPg"
      },
      "source": [
        "**Processo de união com as demais tabelas disponibilizadas**\n",
        "\n",
        "**1 - (Clientes, Entregas)**\n",
        "\n",
        "**2 - (1, Pedidos)**\n",
        "\n",
        "**3 - (2, Pagamentos)**\n",
        "\n",
        "**4 - (3, Review)**\n",
        "\n",
        "**5 - (4, Vendedor)**"
      ]
    },
    {
      "cell_type": "code",
      "metadata": {
        "id": "kMWNThPpt8Nq"
      },
      "source": [
        "test = pd.merge(tabela_cliente, tabela_entrega_pedido, on=[\"customer_id\"], how=\"inner\")\n",
        "test = pd.merge(test, tabela_pedido, on=[\"order_id\"], how=\"inner\")\n",
        "test = pd.merge(test, tabela_pagamento, on=[\"order_id\"], how=\"inner\")\n",
        "test = pd.merge(test, tabela_review, on=[\"order_id\"], how=\"inner\")\n",
        "test = pd.merge(test, tabela_vendedor, on=[\"seller_id\"], how=\"inner\")"
      ],
      "execution_count": null,
      "outputs": []
    },
    {
      "cell_type": "markdown",
      "metadata": {
        "id": "qmlrFnJHmvre"
      },
      "source": [
        "**Tabela Resultante**\n",
        "\n",
        "**Linhas: 118315**\n",
        "\n",
        "**Colunas: 31**"
      ]
    },
    {
      "cell_type": "code",
      "metadata": {
        "colab": {
          "base_uri": "https://localhost:8080/",
          "height": 576
        },
        "id": "LC75YzkN7sQI",
        "outputId": "ede5d00e-f49c-42d8-ad09-c003b61d3a04"
      },
      "source": [
        "test"
      ],
      "execution_count": null,
      "outputs": [
        {
          "output_type": "execute_result",
          "data": {
            "text/html": [
              "<div>\n",
              "<style scoped>\n",
              "    .dataframe tbody tr th:only-of-type {\n",
              "        vertical-align: middle;\n",
              "    }\n",
              "\n",
              "    .dataframe tbody tr th {\n",
              "        vertical-align: top;\n",
              "    }\n",
              "\n",
              "    .dataframe thead th {\n",
              "        text-align: right;\n",
              "    }\n",
              "</style>\n",
              "<table border=\"1\" class=\"dataframe\">\n",
              "  <thead>\n",
              "    <tr style=\"text-align: right;\">\n",
              "      <th></th>\n",
              "      <th>customer_id</th>\n",
              "      <th>customer_unique_id</th>\n",
              "      <th>customer_zip_code_prefix</th>\n",
              "      <th>customer_city</th>\n",
              "      <th>customer_state</th>\n",
              "      <th>order_id</th>\n",
              "      <th>order_status</th>\n",
              "      <th>order_purchase_timestamp</th>\n",
              "      <th>order_approved_at</th>\n",
              "      <th>order_delivered_carrier_date</th>\n",
              "      <th>order_delivered_customer_date</th>\n",
              "      <th>order_estimated_delivery_date</th>\n",
              "      <th>order_item_id</th>\n",
              "      <th>product_id</th>\n",
              "      <th>seller_id</th>\n",
              "      <th>shipping_limit_date</th>\n",
              "      <th>price</th>\n",
              "      <th>freight_value</th>\n",
              "      <th>payment_sequential</th>\n",
              "      <th>payment_type</th>\n",
              "      <th>payment_installments</th>\n",
              "      <th>payment_value</th>\n",
              "      <th>review_id</th>\n",
              "      <th>review_score</th>\n",
              "      <th>review_comment_title</th>\n",
              "      <th>review_comment_message</th>\n",
              "      <th>review_creation_date</th>\n",
              "      <th>review_answer_timestamp</th>\n",
              "      <th>seller_zip_code_prefix</th>\n",
              "      <th>seller_city</th>\n",
              "      <th>seller_state</th>\n",
              "    </tr>\n",
              "  </thead>\n",
              "  <tbody>\n",
              "    <tr>\n",
              "      <th>0</th>\n",
              "      <td>06b8999e2fba1a1fbc88172c00ba8bc7</td>\n",
              "      <td>861eff4711a542e4b93843c6dd7febb0</td>\n",
              "      <td>14409</td>\n",
              "      <td>franca</td>\n",
              "      <td>SP</td>\n",
              "      <td>00e7ee1b050b8499577073aeb2a297a1</td>\n",
              "      <td>delivered</td>\n",
              "      <td>2017-05-16 15:05:35</td>\n",
              "      <td>2017-05-16 15:22:12</td>\n",
              "      <td>2017-05-23 10:47:57</td>\n",
              "      <td>2017-05-25 10:35:35</td>\n",
              "      <td>2017-06-05 00:00:00</td>\n",
              "      <td>1</td>\n",
              "      <td>a9516a079e37a9c9c36b9b78b10169e8</td>\n",
              "      <td>7c67e1448b00f6e969d365cea6b010ab</td>\n",
              "      <td>2017-05-22 15:22:12</td>\n",
              "      <td>124.99</td>\n",
              "      <td>21.88</td>\n",
              "      <td>1</td>\n",
              "      <td>credit_card</td>\n",
              "      <td>2</td>\n",
              "      <td>146.87</td>\n",
              "      <td>88b8b52d46df026a9d1ad2136a59b30b</td>\n",
              "      <td>4</td>\n",
              "      <td>NaN</td>\n",
              "      <td>NaN</td>\n",
              "      <td>2017-05-26 00:00:00</td>\n",
              "      <td>2017-05-30 22:34:40</td>\n",
              "      <td>8577</td>\n",
              "      <td>itaquaquecetuba</td>\n",
              "      <td>SP</td>\n",
              "    </tr>\n",
              "    <tr>\n",
              "      <th>1</th>\n",
              "      <td>4e7b3e00288586ebd08712fdd0374a03</td>\n",
              "      <td>060e732b5b29e8181a18229c7b0b2b5e</td>\n",
              "      <td>1151</td>\n",
              "      <td>sao paulo</td>\n",
              "      <td>SP</td>\n",
              "      <td>b2059ed67ce144a36e2aa97d2c9e9ad2</td>\n",
              "      <td>delivered</td>\n",
              "      <td>2018-05-19 16:07:45</td>\n",
              "      <td>2018-05-20 16:19:10</td>\n",
              "      <td>2018-06-11 14:31:00</td>\n",
              "      <td>2018-06-14 17:58:51</td>\n",
              "      <td>2018-06-13 00:00:00</td>\n",
              "      <td>1</td>\n",
              "      <td>bd07b66896d6f1494f5b86251848ced7</td>\n",
              "      <td>7c67e1448b00f6e969d365cea6b010ab</td>\n",
              "      <td>2018-06-05 16:19:10</td>\n",
              "      <td>139.94</td>\n",
              "      <td>17.79</td>\n",
              "      <td>1</td>\n",
              "      <td>credit_card</td>\n",
              "      <td>7</td>\n",
              "      <td>157.73</td>\n",
              "      <td>5ad6695d76ee186dc473c42706984d87</td>\n",
              "      <td>5</td>\n",
              "      <td>NaN</td>\n",
              "      <td>NaN</td>\n",
              "      <td>2018-06-15 00:00:00</td>\n",
              "      <td>2018-06-15 12:10:59</td>\n",
              "      <td>8577</td>\n",
              "      <td>itaquaquecetuba</td>\n",
              "      <td>SP</td>\n",
              "    </tr>\n",
              "    <tr>\n",
              "      <th>2</th>\n",
              "      <td>b2b6027bc5c5109e529d4dc6358b12c3</td>\n",
              "      <td>259dac757896d24d7702b9acbbff3f3c</td>\n",
              "      <td>8775</td>\n",
              "      <td>mogi das cruzes</td>\n",
              "      <td>SP</td>\n",
              "      <td>951670f92359f4fe4a63112aa7306eba</td>\n",
              "      <td>delivered</td>\n",
              "      <td>2018-03-13 16:06:38</td>\n",
              "      <td>2018-03-13 17:29:19</td>\n",
              "      <td>2018-03-27 23:22:42</td>\n",
              "      <td>2018-03-28 16:04:25</td>\n",
              "      <td>2018-04-10 00:00:00</td>\n",
              "      <td>1</td>\n",
              "      <td>a5647c44af977b148e0a3a4751a09e2e</td>\n",
              "      <td>7c67e1448b00f6e969d365cea6b010ab</td>\n",
              "      <td>2018-03-27 16:31:16</td>\n",
              "      <td>149.94</td>\n",
              "      <td>23.36</td>\n",
              "      <td>1</td>\n",
              "      <td>credit_card</td>\n",
              "      <td>1</td>\n",
              "      <td>173.30</td>\n",
              "      <td>059a801bb31f6aab2266e672cab87bc5</td>\n",
              "      <td>5</td>\n",
              "      <td>NaN</td>\n",
              "      <td>NaN</td>\n",
              "      <td>2018-03-29 00:00:00</td>\n",
              "      <td>2018-04-02 18:36:47</td>\n",
              "      <td>8577</td>\n",
              "      <td>itaquaquecetuba</td>\n",
              "      <td>SP</td>\n",
              "    </tr>\n",
              "    <tr>\n",
              "      <th>3</th>\n",
              "      <td>4c06b42fbf7b97ab10779cda5549cd1c</td>\n",
              "      <td>07d190f123147d9e89d4b922543d7948</td>\n",
              "      <td>65075</td>\n",
              "      <td>sao luis</td>\n",
              "      <td>MA</td>\n",
              "      <td>997fd4b37386d10b57d4ac8cdec011a6</td>\n",
              "      <td>delivered</td>\n",
              "      <td>2018-07-08 09:59:19</td>\n",
              "      <td>2018-07-08 10:30:15</td>\n",
              "      <td>2018-07-25 15:12:00</td>\n",
              "      <td>2018-08-08 19:42:53</td>\n",
              "      <td>2018-08-16 00:00:00</td>\n",
              "      <td>1</td>\n",
              "      <td>8ed094bfe076c568f6bb10feada3f75d</td>\n",
              "      <td>7c67e1448b00f6e969d365cea6b010ab</td>\n",
              "      <td>2018-07-26 10:30:15</td>\n",
              "      <td>199.98</td>\n",
              "      <td>115.77</td>\n",
              "      <td>1</td>\n",
              "      <td>credit_card</td>\n",
              "      <td>6</td>\n",
              "      <td>315.75</td>\n",
              "      <td>2518803238cabbf63564593e4a8fc52d</td>\n",
              "      <td>1</td>\n",
              "      <td>Nada de produto</td>\n",
              "      <td>Ainda não recebi o produto. Sendo assim, não p...</td>\n",
              "      <td>2018-08-09 00:00:00</td>\n",
              "      <td>2018-08-14 11:40:54</td>\n",
              "      <td>8577</td>\n",
              "      <td>itaquaquecetuba</td>\n",
              "      <td>SP</td>\n",
              "    </tr>\n",
              "    <tr>\n",
              "      <th>4</th>\n",
              "      <td>8276de07ef25225d412b8462d73f8664</td>\n",
              "      <td>332cf4e83e16004ba7dca932ce82475b</td>\n",
              "      <td>90010</td>\n",
              "      <td>porto alegre</td>\n",
              "      <td>RS</td>\n",
              "      <td>b63fff1ef8b6201df68bb611ee41129e</td>\n",
              "      <td>delivered</td>\n",
              "      <td>2017-04-02 22:15:27</td>\n",
              "      <td>2017-04-04 05:55:19</td>\n",
              "      <td>2017-04-13 16:28:06</td>\n",
              "      <td>2017-05-02 13:53:25</td>\n",
              "      <td>2017-05-08 00:00:00</td>\n",
              "      <td>1</td>\n",
              "      <td>aba86c093ccdbac75b09111d57e50004</td>\n",
              "      <td>7c67e1448b00f6e969d365cea6b010ab</td>\n",
              "      <td>2017-04-17 05:55:19</td>\n",
              "      <td>129.60</td>\n",
              "      <td>16.61</td>\n",
              "      <td>1</td>\n",
              "      <td>boleto</td>\n",
              "      <td>1</td>\n",
              "      <td>146.21</td>\n",
              "      <td>84467f1766775ba4c14fc25b3ca67905</td>\n",
              "      <td>4</td>\n",
              "      <td>NaN</td>\n",
              "      <td>A crítica é à entrega, pois por se tratar dos ...</td>\n",
              "      <td>2017-05-03 00:00:00</td>\n",
              "      <td>2017-05-03 21:06:33</td>\n",
              "      <td>8577</td>\n",
              "      <td>itaquaquecetuba</td>\n",
              "      <td>SP</td>\n",
              "    </tr>\n",
              "    <tr>\n",
              "      <th>...</th>\n",
              "      <td>...</td>\n",
              "      <td>...</td>\n",
              "      <td>...</td>\n",
              "      <td>...</td>\n",
              "      <td>...</td>\n",
              "      <td>...</td>\n",
              "      <td>...</td>\n",
              "      <td>...</td>\n",
              "      <td>...</td>\n",
              "      <td>...</td>\n",
              "      <td>...</td>\n",
              "      <td>...</td>\n",
              "      <td>...</td>\n",
              "      <td>...</td>\n",
              "      <td>...</td>\n",
              "      <td>...</td>\n",
              "      <td>...</td>\n",
              "      <td>...</td>\n",
              "      <td>...</td>\n",
              "      <td>...</td>\n",
              "      <td>...</td>\n",
              "      <td>...</td>\n",
              "      <td>...</td>\n",
              "      <td>...</td>\n",
              "      <td>...</td>\n",
              "      <td>...</td>\n",
              "      <td>...</td>\n",
              "      <td>...</td>\n",
              "      <td>...</td>\n",
              "      <td>...</td>\n",
              "      <td>...</td>\n",
              "    </tr>\n",
              "    <tr>\n",
              "      <th>118310</th>\n",
              "      <td>eda10d7eb51a675d000956fa1aabc7dd</td>\n",
              "      <td>5c22dbb9d8b5385953f2f1e6d9d115a7</td>\n",
              "      <td>39920</td>\n",
              "      <td>jordania</td>\n",
              "      <td>MG</td>\n",
              "      <td>b494f624c631105b24fe497277085909</td>\n",
              "      <td>delivered</td>\n",
              "      <td>2018-08-01 18:58:49</td>\n",
              "      <td>2018-08-02 18:50:15</td>\n",
              "      <td>2018-08-03 15:39:00</td>\n",
              "      <td>2018-08-13 23:16:46</td>\n",
              "      <td>2018-08-27 00:00:00</td>\n",
              "      <td>1</td>\n",
              "      <td>a2fce4213a6ac271129618259a334261</td>\n",
              "      <td>9140ef75cc8211c4035935e80e567204</td>\n",
              "      <td>2018-08-08 18:50:15</td>\n",
              "      <td>49.90</td>\n",
              "      <td>22.28</td>\n",
              "      <td>1</td>\n",
              "      <td>credit_card</td>\n",
              "      <td>3</td>\n",
              "      <td>72.18</td>\n",
              "      <td>709ee020ff826ee5289d7dd5d6911d0c</td>\n",
              "      <td>5</td>\n",
              "      <td>NaN</td>\n",
              "      <td>NaN</td>\n",
              "      <td>2018-08-14 00:00:00</td>\n",
              "      <td>2018-08-15 11:31:29</td>\n",
              "      <td>87015</td>\n",
              "      <td>maringa</td>\n",
              "      <td>PR</td>\n",
              "    </tr>\n",
              "    <tr>\n",
              "      <th>118311</th>\n",
              "      <td>f0f671d4034e98cdf20f0c452d6db02b</td>\n",
              "      <td>6532316a8c1a7c7a569482db073530bb</td>\n",
              "      <td>7231</td>\n",
              "      <td>guarulhos</td>\n",
              "      <td>SP</td>\n",
              "      <td>f73b31435ce6dec43df056154c39a1ce</td>\n",
              "      <td>shipped</td>\n",
              "      <td>2018-08-20 12:37:54</td>\n",
              "      <td>2018-08-20 15:35:42</td>\n",
              "      <td>2018-08-24 16:48:00</td>\n",
              "      <td>NaN</td>\n",
              "      <td>2018-08-27 00:00:00</td>\n",
              "      <td>1</td>\n",
              "      <td>5ece1e51ece4648de249ec6e9d007fd6</td>\n",
              "      <td>da4d149c0ddbac90557103ac0a0ec356</td>\n",
              "      <td>2018-08-24 15:34:56</td>\n",
              "      <td>730.00</td>\n",
              "      <td>45.98</td>\n",
              "      <td>1</td>\n",
              "      <td>credit_card</td>\n",
              "      <td>10</td>\n",
              "      <td>775.98</td>\n",
              "      <td>274e38de8990f74fc03894fa488b5cd5</td>\n",
              "      <td>3</td>\n",
              "      <td>PRODUTO</td>\n",
              "      <td>NÃO TENHO COMO AVALIAR POIS AINDA NÃO RECEBI O...</td>\n",
              "      <td>2018-08-29 00:00:00</td>\n",
              "      <td>2018-08-30 12:07:35</td>\n",
              "      <td>9861</td>\n",
              "      <td>sbc</td>\n",
              "      <td>SP</td>\n",
              "    </tr>\n",
              "    <tr>\n",
              "      <th>118312</th>\n",
              "      <td>b90b857a277b080d8078332b3636ab58</td>\n",
              "      <td>7f5f43a9394964ac51bc5d1e0204ead4</td>\n",
              "      <td>76400</td>\n",
              "      <td>uruacu</td>\n",
              "      <td>GO</td>\n",
              "      <td>d76fe905f4588ad69ab3b36527bb267d</td>\n",
              "      <td>delivered</td>\n",
              "      <td>2018-08-18 20:59:58</td>\n",
              "      <td>2018-08-18 21:10:13</td>\n",
              "      <td>2018-08-20 16:49:00</td>\n",
              "      <td>2018-08-28 18:16:44</td>\n",
              "      <td>2018-09-10 00:00:00</td>\n",
              "      <td>1</td>\n",
              "      <td>d6e7ac236e583af1e1543d8068c91676</td>\n",
              "      <td>377bc18334c78dd2f1535ef22a3ad225</td>\n",
              "      <td>2018-08-21 21:10:13</td>\n",
              "      <td>135.98</td>\n",
              "      <td>88.46</td>\n",
              "      <td>1</td>\n",
              "      <td>credit_card</td>\n",
              "      <td>6</td>\n",
              "      <td>224.44</td>\n",
              "      <td>6010e1ba95a9e19dc10a7b761932cf98</td>\n",
              "      <td>5</td>\n",
              "      <td>NaN</td>\n",
              "      <td>NaN</td>\n",
              "      <td>2018-08-29 00:00:00</td>\n",
              "      <td>2018-08-29 21:43:39</td>\n",
              "      <td>83015</td>\n",
              "      <td>sao jose dos pinhais</td>\n",
              "      <td>PR</td>\n",
              "    </tr>\n",
              "    <tr>\n",
              "      <th>118313</th>\n",
              "      <td>1ed0c832c2dd99570a59260e71768bdf</td>\n",
              "      <td>82d46759af0369aad49084bacf85a6c3</td>\n",
              "      <td>37610</td>\n",
              "      <td>bom repouso</td>\n",
              "      <td>MG</td>\n",
              "      <td>51c6d2f460589fa7b65f2da51e860206</td>\n",
              "      <td>delivered</td>\n",
              "      <td>2017-11-14 12:04:09</td>\n",
              "      <td>2017-11-14 12:15:25</td>\n",
              "      <td>2017-11-27 20:44:47</td>\n",
              "      <td>2017-12-19 19:37:33</td>\n",
              "      <td>2017-12-12 00:00:00</td>\n",
              "      <td>1</td>\n",
              "      <td>c98bf47f7bea8f3aee82fa023786b8a1</td>\n",
              "      <td>51a04a8a6bdcb23deccc82b0b80742cf</td>\n",
              "      <td>2017-11-24 12:15:25</td>\n",
              "      <td>167.99</td>\n",
              "      <td>31.93</td>\n",
              "      <td>1</td>\n",
              "      <td>credit_card</td>\n",
              "      <td>5</td>\n",
              "      <td>167.79</td>\n",
              "      <td>603f2873842a6975a43c54d305397d69</td>\n",
              "      <td>1</td>\n",
              "      <td>NaN</td>\n",
              "      <td>NaN</td>\n",
              "      <td>2017-12-14 00:00:00</td>\n",
              "      <td>2017-12-16 13:50:11</td>\n",
              "      <td>12914</td>\n",
              "      <td>braganca paulista</td>\n",
              "      <td>SP</td>\n",
              "    </tr>\n",
              "    <tr>\n",
              "      <th>118314</th>\n",
              "      <td>1ed0c832c2dd99570a59260e71768bdf</td>\n",
              "      <td>82d46759af0369aad49084bacf85a6c3</td>\n",
              "      <td>37610</td>\n",
              "      <td>bom repouso</td>\n",
              "      <td>MG</td>\n",
              "      <td>51c6d2f460589fa7b65f2da51e860206</td>\n",
              "      <td>delivered</td>\n",
              "      <td>2017-11-14 12:04:09</td>\n",
              "      <td>2017-11-14 12:15:25</td>\n",
              "      <td>2017-11-27 20:44:47</td>\n",
              "      <td>2017-12-19 19:37:33</td>\n",
              "      <td>2017-12-12 00:00:00</td>\n",
              "      <td>1</td>\n",
              "      <td>c98bf47f7bea8f3aee82fa023786b8a1</td>\n",
              "      <td>51a04a8a6bdcb23deccc82b0b80742cf</td>\n",
              "      <td>2017-11-24 12:15:25</td>\n",
              "      <td>167.99</td>\n",
              "      <td>31.93</td>\n",
              "      <td>2</td>\n",
              "      <td>credit_card</td>\n",
              "      <td>1</td>\n",
              "      <td>32.13</td>\n",
              "      <td>603f2873842a6975a43c54d305397d69</td>\n",
              "      <td>1</td>\n",
              "      <td>NaN</td>\n",
              "      <td>NaN</td>\n",
              "      <td>2017-12-14 00:00:00</td>\n",
              "      <td>2017-12-16 13:50:11</td>\n",
              "      <td>12914</td>\n",
              "      <td>braganca paulista</td>\n",
              "      <td>SP</td>\n",
              "    </tr>\n",
              "  </tbody>\n",
              "</table>\n",
              "<p>118315 rows × 31 columns</p>\n",
              "</div>"
            ],
            "text/plain": [
              "                             customer_id  ... seller_state\n",
              "0       06b8999e2fba1a1fbc88172c00ba8bc7  ...           SP\n",
              "1       4e7b3e00288586ebd08712fdd0374a03  ...           SP\n",
              "2       b2b6027bc5c5109e529d4dc6358b12c3  ...           SP\n",
              "3       4c06b42fbf7b97ab10779cda5549cd1c  ...           SP\n",
              "4       8276de07ef25225d412b8462d73f8664  ...           SP\n",
              "...                                  ...  ...          ...\n",
              "118310  eda10d7eb51a675d000956fa1aabc7dd  ...           PR\n",
              "118311  f0f671d4034e98cdf20f0c452d6db02b  ...           SP\n",
              "118312  b90b857a277b080d8078332b3636ab58  ...           PR\n",
              "118313  1ed0c832c2dd99570a59260e71768bdf  ...           SP\n",
              "118314  1ed0c832c2dd99570a59260e71768bdf  ...           SP\n",
              "\n",
              "[118315 rows x 31 columns]"
            ]
          },
          "metadata": {
            "tags": []
          },
          "execution_count": 86
        }
      ]
    },
    {
      "cell_type": "markdown",
      "metadata": {
        "id": "kXOr8zbKnCY1"
      },
      "source": [
        "**Segunda filtragem consiste em remover elementos que não possuem\n",
        "relação com a variável review_score**"
      ]
    },
    {
      "cell_type": "code",
      "metadata": {
        "id": "rwYGaT5i8AJI"
      },
      "source": [
        "#test = test.drop(columns=[\"customer_unique_id\"],axis=1)\n",
        "#test = test.drop(columns=[\"customer_city\"],axis=1)\n",
        "#test = test.drop(columns=[\"customer_state\"],axis=1)\n",
        "#test = test.drop(columns=[\"order_status\"],axis=1)\n",
        "#test = test.drop(columns=[\"order_purchase_timestamp\"],axis=1)\n",
        "#test = test.drop(columns=[\"order_approved_at\"],axis=1)\n",
        "#test = test.drop(columns=[\"order_delivered_carrier_date\"],axis=1)\n",
        "#test = test.drop(columns=[\"order_delivered_customer_date\"],axis=1)\n",
        "#test = test.drop(columns=[\"order_estimated_delivery_date\"],axis=1)\n",
        "#test = test.drop(columns=[\"shipping_limit_date\"],axis=1)\n",
        "#test = test.drop(columns=[\"review_creation_date\"],axis=1)\n",
        "#test = test.drop(columns=[\"review_answer_timestamp\"],axis=1)\n",
        "#test = test.drop(columns=[\"seller_city\"],axis=1)\n",
        "#test = test.drop(columns=[\"seller_state\"],axis=1)\n",
        "#test = test.drop(columns=[\"review_comment_title\"],axis=1)\n",
        "#test = test.drop(columns=[\"review_comment_message\"],axis=1)"
      ],
      "execution_count": null,
      "outputs": []
    },
    {
      "cell_type": "markdown",
      "metadata": {
        "id": "N1-zu58cnPwH"
      },
      "source": [
        "**Tabela Resultante após a remoção de atributos não prioritários para o nível de\n",
        "satisfação dos clientes**\n",
        "\n",
        "**Linhas: 118315**\n",
        "\n",
        "**Colunas: 15**"
      ]
    },
    {
      "cell_type": "code",
      "metadata": {
        "colab": {
          "base_uri": "https://localhost:8080/",
          "height": 426
        },
        "id": "OCSpD4v29xwE",
        "outputId": "e956220e-c41b-4c23-a129-89aa958977a9"
      },
      "source": [
        "test"
      ],
      "execution_count": null,
      "outputs": [
        {
          "output_type": "execute_result",
          "data": {
            "text/html": [
              "<div>\n",
              "<style scoped>\n",
              "    .dataframe tbody tr th:only-of-type {\n",
              "        vertical-align: middle;\n",
              "    }\n",
              "\n",
              "    .dataframe tbody tr th {\n",
              "        vertical-align: top;\n",
              "    }\n",
              "\n",
              "    .dataframe thead th {\n",
              "        text-align: right;\n",
              "    }\n",
              "</style>\n",
              "<table border=\"1\" class=\"dataframe\">\n",
              "  <thead>\n",
              "    <tr style=\"text-align: right;\">\n",
              "      <th></th>\n",
              "      <th>customer_id</th>\n",
              "      <th>customer_zip_code_prefix</th>\n",
              "      <th>order_id</th>\n",
              "      <th>order_item_id</th>\n",
              "      <th>product_id</th>\n",
              "      <th>seller_id</th>\n",
              "      <th>price</th>\n",
              "      <th>freight_value</th>\n",
              "      <th>payment_sequential</th>\n",
              "      <th>payment_type</th>\n",
              "      <th>payment_installments</th>\n",
              "      <th>payment_value</th>\n",
              "      <th>review_id</th>\n",
              "      <th>review_score</th>\n",
              "      <th>seller_zip_code_prefix</th>\n",
              "    </tr>\n",
              "  </thead>\n",
              "  <tbody>\n",
              "    <tr>\n",
              "      <th>0</th>\n",
              "      <td>06b8999e2fba1a1fbc88172c00ba8bc7</td>\n",
              "      <td>14409</td>\n",
              "      <td>00e7ee1b050b8499577073aeb2a297a1</td>\n",
              "      <td>1</td>\n",
              "      <td>a9516a079e37a9c9c36b9b78b10169e8</td>\n",
              "      <td>7c67e1448b00f6e969d365cea6b010ab</td>\n",
              "      <td>124.99</td>\n",
              "      <td>21.88</td>\n",
              "      <td>1</td>\n",
              "      <td>credit_card</td>\n",
              "      <td>2</td>\n",
              "      <td>146.87</td>\n",
              "      <td>88b8b52d46df026a9d1ad2136a59b30b</td>\n",
              "      <td>4</td>\n",
              "      <td>8577</td>\n",
              "    </tr>\n",
              "    <tr>\n",
              "      <th>1</th>\n",
              "      <td>4e7b3e00288586ebd08712fdd0374a03</td>\n",
              "      <td>1151</td>\n",
              "      <td>b2059ed67ce144a36e2aa97d2c9e9ad2</td>\n",
              "      <td>1</td>\n",
              "      <td>bd07b66896d6f1494f5b86251848ced7</td>\n",
              "      <td>7c67e1448b00f6e969d365cea6b010ab</td>\n",
              "      <td>139.94</td>\n",
              "      <td>17.79</td>\n",
              "      <td>1</td>\n",
              "      <td>credit_card</td>\n",
              "      <td>7</td>\n",
              "      <td>157.73</td>\n",
              "      <td>5ad6695d76ee186dc473c42706984d87</td>\n",
              "      <td>5</td>\n",
              "      <td>8577</td>\n",
              "    </tr>\n",
              "    <tr>\n",
              "      <th>2</th>\n",
              "      <td>b2b6027bc5c5109e529d4dc6358b12c3</td>\n",
              "      <td>8775</td>\n",
              "      <td>951670f92359f4fe4a63112aa7306eba</td>\n",
              "      <td>1</td>\n",
              "      <td>a5647c44af977b148e0a3a4751a09e2e</td>\n",
              "      <td>7c67e1448b00f6e969d365cea6b010ab</td>\n",
              "      <td>149.94</td>\n",
              "      <td>23.36</td>\n",
              "      <td>1</td>\n",
              "      <td>credit_card</td>\n",
              "      <td>1</td>\n",
              "      <td>173.30</td>\n",
              "      <td>059a801bb31f6aab2266e672cab87bc5</td>\n",
              "      <td>5</td>\n",
              "      <td>8577</td>\n",
              "    </tr>\n",
              "    <tr>\n",
              "      <th>3</th>\n",
              "      <td>4c06b42fbf7b97ab10779cda5549cd1c</td>\n",
              "      <td>65075</td>\n",
              "      <td>997fd4b37386d10b57d4ac8cdec011a6</td>\n",
              "      <td>1</td>\n",
              "      <td>8ed094bfe076c568f6bb10feada3f75d</td>\n",
              "      <td>7c67e1448b00f6e969d365cea6b010ab</td>\n",
              "      <td>199.98</td>\n",
              "      <td>115.77</td>\n",
              "      <td>1</td>\n",
              "      <td>credit_card</td>\n",
              "      <td>6</td>\n",
              "      <td>315.75</td>\n",
              "      <td>2518803238cabbf63564593e4a8fc52d</td>\n",
              "      <td>1</td>\n",
              "      <td>8577</td>\n",
              "    </tr>\n",
              "    <tr>\n",
              "      <th>4</th>\n",
              "      <td>8276de07ef25225d412b8462d73f8664</td>\n",
              "      <td>90010</td>\n",
              "      <td>b63fff1ef8b6201df68bb611ee41129e</td>\n",
              "      <td>1</td>\n",
              "      <td>aba86c093ccdbac75b09111d57e50004</td>\n",
              "      <td>7c67e1448b00f6e969d365cea6b010ab</td>\n",
              "      <td>129.60</td>\n",
              "      <td>16.61</td>\n",
              "      <td>1</td>\n",
              "      <td>boleto</td>\n",
              "      <td>1</td>\n",
              "      <td>146.21</td>\n",
              "      <td>84467f1766775ba4c14fc25b3ca67905</td>\n",
              "      <td>4</td>\n",
              "      <td>8577</td>\n",
              "    </tr>\n",
              "    <tr>\n",
              "      <th>...</th>\n",
              "      <td>...</td>\n",
              "      <td>...</td>\n",
              "      <td>...</td>\n",
              "      <td>...</td>\n",
              "      <td>...</td>\n",
              "      <td>...</td>\n",
              "      <td>...</td>\n",
              "      <td>...</td>\n",
              "      <td>...</td>\n",
              "      <td>...</td>\n",
              "      <td>...</td>\n",
              "      <td>...</td>\n",
              "      <td>...</td>\n",
              "      <td>...</td>\n",
              "      <td>...</td>\n",
              "    </tr>\n",
              "    <tr>\n",
              "      <th>118310</th>\n",
              "      <td>eda10d7eb51a675d000956fa1aabc7dd</td>\n",
              "      <td>39920</td>\n",
              "      <td>b494f624c631105b24fe497277085909</td>\n",
              "      <td>1</td>\n",
              "      <td>a2fce4213a6ac271129618259a334261</td>\n",
              "      <td>9140ef75cc8211c4035935e80e567204</td>\n",
              "      <td>49.90</td>\n",
              "      <td>22.28</td>\n",
              "      <td>1</td>\n",
              "      <td>credit_card</td>\n",
              "      <td>3</td>\n",
              "      <td>72.18</td>\n",
              "      <td>709ee020ff826ee5289d7dd5d6911d0c</td>\n",
              "      <td>5</td>\n",
              "      <td>87015</td>\n",
              "    </tr>\n",
              "    <tr>\n",
              "      <th>118311</th>\n",
              "      <td>f0f671d4034e98cdf20f0c452d6db02b</td>\n",
              "      <td>7231</td>\n",
              "      <td>f73b31435ce6dec43df056154c39a1ce</td>\n",
              "      <td>1</td>\n",
              "      <td>5ece1e51ece4648de249ec6e9d007fd6</td>\n",
              "      <td>da4d149c0ddbac90557103ac0a0ec356</td>\n",
              "      <td>730.00</td>\n",
              "      <td>45.98</td>\n",
              "      <td>1</td>\n",
              "      <td>credit_card</td>\n",
              "      <td>10</td>\n",
              "      <td>775.98</td>\n",
              "      <td>274e38de8990f74fc03894fa488b5cd5</td>\n",
              "      <td>3</td>\n",
              "      <td>9861</td>\n",
              "    </tr>\n",
              "    <tr>\n",
              "      <th>118312</th>\n",
              "      <td>b90b857a277b080d8078332b3636ab58</td>\n",
              "      <td>76400</td>\n",
              "      <td>d76fe905f4588ad69ab3b36527bb267d</td>\n",
              "      <td>1</td>\n",
              "      <td>d6e7ac236e583af1e1543d8068c91676</td>\n",
              "      <td>377bc18334c78dd2f1535ef22a3ad225</td>\n",
              "      <td>135.98</td>\n",
              "      <td>88.46</td>\n",
              "      <td>1</td>\n",
              "      <td>credit_card</td>\n",
              "      <td>6</td>\n",
              "      <td>224.44</td>\n",
              "      <td>6010e1ba95a9e19dc10a7b761932cf98</td>\n",
              "      <td>5</td>\n",
              "      <td>83015</td>\n",
              "    </tr>\n",
              "    <tr>\n",
              "      <th>118313</th>\n",
              "      <td>1ed0c832c2dd99570a59260e71768bdf</td>\n",
              "      <td>37610</td>\n",
              "      <td>51c6d2f460589fa7b65f2da51e860206</td>\n",
              "      <td>1</td>\n",
              "      <td>c98bf47f7bea8f3aee82fa023786b8a1</td>\n",
              "      <td>51a04a8a6bdcb23deccc82b0b80742cf</td>\n",
              "      <td>167.99</td>\n",
              "      <td>31.93</td>\n",
              "      <td>1</td>\n",
              "      <td>credit_card</td>\n",
              "      <td>5</td>\n",
              "      <td>167.79</td>\n",
              "      <td>603f2873842a6975a43c54d305397d69</td>\n",
              "      <td>1</td>\n",
              "      <td>12914</td>\n",
              "    </tr>\n",
              "    <tr>\n",
              "      <th>118314</th>\n",
              "      <td>1ed0c832c2dd99570a59260e71768bdf</td>\n",
              "      <td>37610</td>\n",
              "      <td>51c6d2f460589fa7b65f2da51e860206</td>\n",
              "      <td>1</td>\n",
              "      <td>c98bf47f7bea8f3aee82fa023786b8a1</td>\n",
              "      <td>51a04a8a6bdcb23deccc82b0b80742cf</td>\n",
              "      <td>167.99</td>\n",
              "      <td>31.93</td>\n",
              "      <td>2</td>\n",
              "      <td>credit_card</td>\n",
              "      <td>1</td>\n",
              "      <td>32.13</td>\n",
              "      <td>603f2873842a6975a43c54d305397d69</td>\n",
              "      <td>1</td>\n",
              "      <td>12914</td>\n",
              "    </tr>\n",
              "  </tbody>\n",
              "</table>\n",
              "<p>118315 rows × 15 columns</p>\n",
              "</div>"
            ],
            "text/plain": [
              "                             customer_id  ...  seller_zip_code_prefix\n",
              "0       06b8999e2fba1a1fbc88172c00ba8bc7  ...                    8577\n",
              "1       4e7b3e00288586ebd08712fdd0374a03  ...                    8577\n",
              "2       b2b6027bc5c5109e529d4dc6358b12c3  ...                    8577\n",
              "3       4c06b42fbf7b97ab10779cda5549cd1c  ...                    8577\n",
              "4       8276de07ef25225d412b8462d73f8664  ...                    8577\n",
              "...                                  ...  ...                     ...\n",
              "118310  eda10d7eb51a675d000956fa1aabc7dd  ...                   87015\n",
              "118311  f0f671d4034e98cdf20f0c452d6db02b  ...                    9861\n",
              "118312  b90b857a277b080d8078332b3636ab58  ...                   83015\n",
              "118313  1ed0c832c2dd99570a59260e71768bdf  ...                   12914\n",
              "118314  1ed0c832c2dd99570a59260e71768bdf  ...                   12914\n",
              "\n",
              "[118315 rows x 15 columns]"
            ]
          },
          "metadata": {
            "tags": []
          },
          "execution_count": 160
        }
      ]
    },
    {
      "cell_type": "markdown",
      "metadata": {
        "id": "kpsBLuM_nlg9"
      },
      "source": [
        "**Inserindo cada atributo da tabela resultante em um vetor para melhor manipulação dos dados**\n"
      ]
    },
    {
      "cell_type": "code",
      "metadata": {
        "id": "HZEvIcF4d1-j"
      },
      "source": [
        "vetor_cliente = np.array(test.customer_id)\n",
        "vetor_cepcliente = np.array(test.customer_zip_code_prefix)\n",
        "vetor_pedido = np.array(test.order_id)\n",
        "vetor_idpedido = np.array(test.order_item_id)\n",
        "vetor_produto = np.array(test.product_id)\n",
        "vetor_vendedor = np.array(test.seller_id)\n",
        "vetor_preco_produto = np.array(test.price)\n",
        "vetor_frete = np.array(test.freight_value)\n",
        "vetor_parcela = np.array(test.payment_sequential)\n",
        "vetor_tipopagamento = np.array(test.payment_type)\n",
        "vetor_pay = np.array(test.payment_installments)\n",
        "vetor_valorfinal = np.array(test.payment_value)\n",
        "vetor_review = np.array(test.review_id)\n",
        "vetor_score = np.array(test.review_score)\n",
        "vetor_cepvendedor = np.array(test.seller_zip_code_prefix)"
      ],
      "execution_count": null,
      "outputs": []
    },
    {
      "cell_type": "markdown",
      "metadata": {
        "id": "0ItdyyMcn9CG"
      },
      "source": [
        "**Definindo um novo dataframe vazio**"
      ]
    },
    {
      "cell_type": "code",
      "metadata": {
        "colab": {
          "base_uri": "https://localhost:8080/",
          "height": 31
        },
        "id": "nx2dYDC4iwvU",
        "outputId": "85d8066b-7484-4be6-cfc8-b35c8dc4da0d"
      },
      "source": [
        "df = pd.DataFrame()\n",
        "df"
      ],
      "execution_count": null,
      "outputs": [
        {
          "output_type": "execute_result",
          "data": {
            "text/html": [
              "<div>\n",
              "<style scoped>\n",
              "    .dataframe tbody tr th:only-of-type {\n",
              "        vertical-align: middle;\n",
              "    }\n",
              "\n",
              "    .dataframe tbody tr th {\n",
              "        vertical-align: top;\n",
              "    }\n",
              "\n",
              "    .dataframe thead th {\n",
              "        text-align: right;\n",
              "    }\n",
              "</style>\n",
              "<table border=\"1\" class=\"dataframe\">\n",
              "  <thead>\n",
              "    <tr style=\"text-align: right;\">\n",
              "      <th></th>\n",
              "    </tr>\n",
              "  </thead>\n",
              "  <tbody>\n",
              "  </tbody>\n",
              "</table>\n",
              "</div>"
            ],
            "text/plain": [
              "Empty DataFrame\n",
              "Columns: []\n",
              "Index: []"
            ]
          },
          "metadata": {
            "tags": []
          },
          "execution_count": 90
        }
      ]
    },
    {
      "cell_type": "code",
      "metadata": {
        "id": "BCjEurLwbeX_"
      },
      "source": [
        ""
      ],
      "execution_count": null,
      "outputs": []
    },
    {
      "cell_type": "markdown",
      "metadata": {
        "id": "ZA_52lVkoJPf"
      },
      "source": [
        "**Definindo as colunas do novo dataframe e atribuindo para cada coluna, seu respectivo vetor de dados registrado anteriormente.**"
      ]
    },
    {
      "cell_type": "code",
      "metadata": {
        "colab": {
          "base_uri": "https://localhost:8080/",
          "height": 426
        },
        "id": "Q18yi71okmxX",
        "outputId": "9ede9e94-7207-4b13-cbb2-d3b08455111b"
      },
      "source": [
        "COLUNAS = [\n",
        "    'Cliente',\n",
        "    'CEP_Cliente',\n",
        "    'Pedido',\n",
        "    'id_Pedido',\n",
        "    'Produto',\n",
        "    'Vendedor',\n",
        "    'Preco_produto',\n",
        "    'Frete',\n",
        "    'Parcela',\n",
        "    'Tipo_pagamento',\n",
        "    'Installments',\n",
        "    'Valor_total',\n",
        "    'ID_Review',\n",
        "    'CEP_Vendedor',\n",
        "    'Score'\n",
        "]\n",
        "\n",
        "df = pd.DataFrame(columns =COLUNAS)\n",
        "\n",
        "df.Cliente = vetor_cliente\n",
        "df.CEP_Cliente = vetor_cepcliente\n",
        "df.Pedido = vetor_pedido\n",
        "df.id_Pedido = vetor_idpedido\n",
        "df.Produto = vetor_produto\n",
        "df.Vendedor = vetor_vendedor\n",
        "df.Preco_produto = vetor_preco_produto\n",
        "df.Frete = vetor_frete\n",
        "df.Parcela = vetor_parcela\n",
        "df.Tipo_pagamento = vetor_tipopagamento\n",
        "df.Installments = vetor_pay\n",
        "df.Valor_total = vetor_valorfinal\n",
        "df.ID_Review = vetor_review\n",
        "df.CEP_Vendedor = vetor_cepvendedor\n",
        "df.Score = vetor_score\n",
        "df"
      ],
      "execution_count": null,
      "outputs": [
        {
          "output_type": "execute_result",
          "data": {
            "text/html": [
              "<div>\n",
              "<style scoped>\n",
              "    .dataframe tbody tr th:only-of-type {\n",
              "        vertical-align: middle;\n",
              "    }\n",
              "\n",
              "    .dataframe tbody tr th {\n",
              "        vertical-align: top;\n",
              "    }\n",
              "\n",
              "    .dataframe thead th {\n",
              "        text-align: right;\n",
              "    }\n",
              "</style>\n",
              "<table border=\"1\" class=\"dataframe\">\n",
              "  <thead>\n",
              "    <tr style=\"text-align: right;\">\n",
              "      <th></th>\n",
              "      <th>Cliente</th>\n",
              "      <th>CEP_Cliente</th>\n",
              "      <th>Pedido</th>\n",
              "      <th>id_Pedido</th>\n",
              "      <th>Produto</th>\n",
              "      <th>Vendedor</th>\n",
              "      <th>Preco_produto</th>\n",
              "      <th>Frete</th>\n",
              "      <th>Parcela</th>\n",
              "      <th>Tipo_pagamento</th>\n",
              "      <th>Installments</th>\n",
              "      <th>Valor_total</th>\n",
              "      <th>ID_Review</th>\n",
              "      <th>CEP_Vendedor</th>\n",
              "      <th>Score</th>\n",
              "    </tr>\n",
              "  </thead>\n",
              "  <tbody>\n",
              "    <tr>\n",
              "      <th>0</th>\n",
              "      <td>06b8999e2fba1a1fbc88172c00ba8bc7</td>\n",
              "      <td>14409</td>\n",
              "      <td>00e7ee1b050b8499577073aeb2a297a1</td>\n",
              "      <td>1</td>\n",
              "      <td>a9516a079e37a9c9c36b9b78b10169e8</td>\n",
              "      <td>7c67e1448b00f6e969d365cea6b010ab</td>\n",
              "      <td>124.99</td>\n",
              "      <td>21.88</td>\n",
              "      <td>1</td>\n",
              "      <td>credit_card</td>\n",
              "      <td>2</td>\n",
              "      <td>146.87</td>\n",
              "      <td>88b8b52d46df026a9d1ad2136a59b30b</td>\n",
              "      <td>8577</td>\n",
              "      <td>4</td>\n",
              "    </tr>\n",
              "    <tr>\n",
              "      <th>1</th>\n",
              "      <td>4e7b3e00288586ebd08712fdd0374a03</td>\n",
              "      <td>1151</td>\n",
              "      <td>b2059ed67ce144a36e2aa97d2c9e9ad2</td>\n",
              "      <td>1</td>\n",
              "      <td>bd07b66896d6f1494f5b86251848ced7</td>\n",
              "      <td>7c67e1448b00f6e969d365cea6b010ab</td>\n",
              "      <td>139.94</td>\n",
              "      <td>17.79</td>\n",
              "      <td>1</td>\n",
              "      <td>credit_card</td>\n",
              "      <td>7</td>\n",
              "      <td>157.73</td>\n",
              "      <td>5ad6695d76ee186dc473c42706984d87</td>\n",
              "      <td>8577</td>\n",
              "      <td>5</td>\n",
              "    </tr>\n",
              "    <tr>\n",
              "      <th>2</th>\n",
              "      <td>b2b6027bc5c5109e529d4dc6358b12c3</td>\n",
              "      <td>8775</td>\n",
              "      <td>951670f92359f4fe4a63112aa7306eba</td>\n",
              "      <td>1</td>\n",
              "      <td>a5647c44af977b148e0a3a4751a09e2e</td>\n",
              "      <td>7c67e1448b00f6e969d365cea6b010ab</td>\n",
              "      <td>149.94</td>\n",
              "      <td>23.36</td>\n",
              "      <td>1</td>\n",
              "      <td>credit_card</td>\n",
              "      <td>1</td>\n",
              "      <td>173.30</td>\n",
              "      <td>059a801bb31f6aab2266e672cab87bc5</td>\n",
              "      <td>8577</td>\n",
              "      <td>5</td>\n",
              "    </tr>\n",
              "    <tr>\n",
              "      <th>3</th>\n",
              "      <td>4c06b42fbf7b97ab10779cda5549cd1c</td>\n",
              "      <td>65075</td>\n",
              "      <td>997fd4b37386d10b57d4ac8cdec011a6</td>\n",
              "      <td>1</td>\n",
              "      <td>8ed094bfe076c568f6bb10feada3f75d</td>\n",
              "      <td>7c67e1448b00f6e969d365cea6b010ab</td>\n",
              "      <td>199.98</td>\n",
              "      <td>115.77</td>\n",
              "      <td>1</td>\n",
              "      <td>credit_card</td>\n",
              "      <td>6</td>\n",
              "      <td>315.75</td>\n",
              "      <td>2518803238cabbf63564593e4a8fc52d</td>\n",
              "      <td>8577</td>\n",
              "      <td>1</td>\n",
              "    </tr>\n",
              "    <tr>\n",
              "      <th>4</th>\n",
              "      <td>8276de07ef25225d412b8462d73f8664</td>\n",
              "      <td>90010</td>\n",
              "      <td>b63fff1ef8b6201df68bb611ee41129e</td>\n",
              "      <td>1</td>\n",
              "      <td>aba86c093ccdbac75b09111d57e50004</td>\n",
              "      <td>7c67e1448b00f6e969d365cea6b010ab</td>\n",
              "      <td>129.60</td>\n",
              "      <td>16.61</td>\n",
              "      <td>1</td>\n",
              "      <td>boleto</td>\n",
              "      <td>1</td>\n",
              "      <td>146.21</td>\n",
              "      <td>84467f1766775ba4c14fc25b3ca67905</td>\n",
              "      <td>8577</td>\n",
              "      <td>4</td>\n",
              "    </tr>\n",
              "    <tr>\n",
              "      <th>...</th>\n",
              "      <td>...</td>\n",
              "      <td>...</td>\n",
              "      <td>...</td>\n",
              "      <td>...</td>\n",
              "      <td>...</td>\n",
              "      <td>...</td>\n",
              "      <td>...</td>\n",
              "      <td>...</td>\n",
              "      <td>...</td>\n",
              "      <td>...</td>\n",
              "      <td>...</td>\n",
              "      <td>...</td>\n",
              "      <td>...</td>\n",
              "      <td>...</td>\n",
              "      <td>...</td>\n",
              "    </tr>\n",
              "    <tr>\n",
              "      <th>118310</th>\n",
              "      <td>eda10d7eb51a675d000956fa1aabc7dd</td>\n",
              "      <td>39920</td>\n",
              "      <td>b494f624c631105b24fe497277085909</td>\n",
              "      <td>1</td>\n",
              "      <td>a2fce4213a6ac271129618259a334261</td>\n",
              "      <td>9140ef75cc8211c4035935e80e567204</td>\n",
              "      <td>49.90</td>\n",
              "      <td>22.28</td>\n",
              "      <td>1</td>\n",
              "      <td>credit_card</td>\n",
              "      <td>3</td>\n",
              "      <td>72.18</td>\n",
              "      <td>709ee020ff826ee5289d7dd5d6911d0c</td>\n",
              "      <td>87015</td>\n",
              "      <td>5</td>\n",
              "    </tr>\n",
              "    <tr>\n",
              "      <th>118311</th>\n",
              "      <td>f0f671d4034e98cdf20f0c452d6db02b</td>\n",
              "      <td>7231</td>\n",
              "      <td>f73b31435ce6dec43df056154c39a1ce</td>\n",
              "      <td>1</td>\n",
              "      <td>5ece1e51ece4648de249ec6e9d007fd6</td>\n",
              "      <td>da4d149c0ddbac90557103ac0a0ec356</td>\n",
              "      <td>730.00</td>\n",
              "      <td>45.98</td>\n",
              "      <td>1</td>\n",
              "      <td>credit_card</td>\n",
              "      <td>10</td>\n",
              "      <td>775.98</td>\n",
              "      <td>274e38de8990f74fc03894fa488b5cd5</td>\n",
              "      <td>9861</td>\n",
              "      <td>3</td>\n",
              "    </tr>\n",
              "    <tr>\n",
              "      <th>118312</th>\n",
              "      <td>b90b857a277b080d8078332b3636ab58</td>\n",
              "      <td>76400</td>\n",
              "      <td>d76fe905f4588ad69ab3b36527bb267d</td>\n",
              "      <td>1</td>\n",
              "      <td>d6e7ac236e583af1e1543d8068c91676</td>\n",
              "      <td>377bc18334c78dd2f1535ef22a3ad225</td>\n",
              "      <td>135.98</td>\n",
              "      <td>88.46</td>\n",
              "      <td>1</td>\n",
              "      <td>credit_card</td>\n",
              "      <td>6</td>\n",
              "      <td>224.44</td>\n",
              "      <td>6010e1ba95a9e19dc10a7b761932cf98</td>\n",
              "      <td>83015</td>\n",
              "      <td>5</td>\n",
              "    </tr>\n",
              "    <tr>\n",
              "      <th>118313</th>\n",
              "      <td>1ed0c832c2dd99570a59260e71768bdf</td>\n",
              "      <td>37610</td>\n",
              "      <td>51c6d2f460589fa7b65f2da51e860206</td>\n",
              "      <td>1</td>\n",
              "      <td>c98bf47f7bea8f3aee82fa023786b8a1</td>\n",
              "      <td>51a04a8a6bdcb23deccc82b0b80742cf</td>\n",
              "      <td>167.99</td>\n",
              "      <td>31.93</td>\n",
              "      <td>1</td>\n",
              "      <td>credit_card</td>\n",
              "      <td>5</td>\n",
              "      <td>167.79</td>\n",
              "      <td>603f2873842a6975a43c54d305397d69</td>\n",
              "      <td>12914</td>\n",
              "      <td>1</td>\n",
              "    </tr>\n",
              "    <tr>\n",
              "      <th>118314</th>\n",
              "      <td>1ed0c832c2dd99570a59260e71768bdf</td>\n",
              "      <td>37610</td>\n",
              "      <td>51c6d2f460589fa7b65f2da51e860206</td>\n",
              "      <td>1</td>\n",
              "      <td>c98bf47f7bea8f3aee82fa023786b8a1</td>\n",
              "      <td>51a04a8a6bdcb23deccc82b0b80742cf</td>\n",
              "      <td>167.99</td>\n",
              "      <td>31.93</td>\n",
              "      <td>2</td>\n",
              "      <td>credit_card</td>\n",
              "      <td>1</td>\n",
              "      <td>32.13</td>\n",
              "      <td>603f2873842a6975a43c54d305397d69</td>\n",
              "      <td>12914</td>\n",
              "      <td>1</td>\n",
              "    </tr>\n",
              "  </tbody>\n",
              "</table>\n",
              "<p>118315 rows × 15 columns</p>\n",
              "</div>"
            ],
            "text/plain": [
              "                                 Cliente  CEP_Cliente  ... CEP_Vendedor  Score\n",
              "0       06b8999e2fba1a1fbc88172c00ba8bc7        14409  ...         8577      4\n",
              "1       4e7b3e00288586ebd08712fdd0374a03         1151  ...         8577      5\n",
              "2       b2b6027bc5c5109e529d4dc6358b12c3         8775  ...         8577      5\n",
              "3       4c06b42fbf7b97ab10779cda5549cd1c        65075  ...         8577      1\n",
              "4       8276de07ef25225d412b8462d73f8664        90010  ...         8577      4\n",
              "...                                  ...          ...  ...          ...    ...\n",
              "118310  eda10d7eb51a675d000956fa1aabc7dd        39920  ...        87015      5\n",
              "118311  f0f671d4034e98cdf20f0c452d6db02b         7231  ...         9861      3\n",
              "118312  b90b857a277b080d8078332b3636ab58        76400  ...        83015      5\n",
              "118313  1ed0c832c2dd99570a59260e71768bdf        37610  ...        12914      1\n",
              "118314  1ed0c832c2dd99570a59260e71768bdf        37610  ...        12914      1\n",
              "\n",
              "[118315 rows x 15 columns]"
            ]
          },
          "metadata": {
            "tags": []
          },
          "execution_count": 164
        }
      ]
    },
    {
      "cell_type": "code",
      "metadata": {
        "id": "b4it0nDmZkLz"
      },
      "source": [
        ""
      ],
      "execution_count": null,
      "outputs": []
    },
    {
      "cell_type": "markdown",
      "metadata": {
        "id": "66MvCTZhojfD"
      },
      "source": [
        "**Impressão da coluna de clientes.**"
      ]
    },
    {
      "cell_type": "code",
      "metadata": {
        "colab": {
          "base_uri": "https://localhost:8080/"
        },
        "id": "RObPztDlZuyy",
        "outputId": "36f1c393-cbdc-4d08-fdfc-50ef32bbb308"
      },
      "source": [
        "df.Cliente"
      ],
      "execution_count": null,
      "outputs": [
        {
          "output_type": "execute_result",
          "data": {
            "text/plain": [
              "0         06b8999e2fba1a1fbc88172c00ba8bc7\n",
              "1         4e7b3e00288586ebd08712fdd0374a03\n",
              "2         b2b6027bc5c5109e529d4dc6358b12c3\n",
              "3         4c06b42fbf7b97ab10779cda5549cd1c\n",
              "4         8276de07ef25225d412b8462d73f8664\n",
              "                        ...               \n",
              "118310    eda10d7eb51a675d000956fa1aabc7dd\n",
              "118311    f0f671d4034e98cdf20f0c452d6db02b\n",
              "118312    b90b857a277b080d8078332b3636ab58\n",
              "118313    1ed0c832c2dd99570a59260e71768bdf\n",
              "118314    1ed0c832c2dd99570a59260e71768bdf\n",
              "Name: Cliente, Length: 118315, dtype: object"
            ]
          },
          "metadata": {
            "tags": []
          },
          "execution_count": 165
        }
      ]
    },
    {
      "cell_type": "code",
      "metadata": {
        "id": "yZSj8AI3l9HN"
      },
      "source": [
        "#for index, row in df.iterrows():\n",
        "#    if row['Score'] == 1:\n",
        "#        df.loc[index,'Classe'] =  'Pessimo'\n",
        "#    if row['Score'] == 2:\n",
        "#        df.loc[index,'Classe'] =  'Ruim'\n",
        "#    if row['Score'] == 3:\n",
        "#        df.loc[index,'Classe'] =  'Mediano'\n",
        "#    if row['Score'] == 4:\n",
        "#        df.loc[index,'Classe'] =  'Bom'\n",
        "#    if row['Score'] == 5:\n",
        "#        df.loc[index,'Classe'] =  'Otimo'"
      ],
      "execution_count": null,
      "outputs": []
    },
    {
      "cell_type": "markdown",
      "metadata": {
        "id": "TI83wjbsosb4"
      },
      "source": [
        "**Informações do dataframe**\n",
        "\n",
        "**Atributos, elementos não nulos, Tipo das variáveis da coluna**"
      ]
    },
    {
      "cell_type": "code",
      "metadata": {
        "colab": {
          "base_uri": "https://localhost:8080/"
        },
        "id": "cgMwakkDqt69",
        "outputId": "7ddf5d80-951c-471b-c866-2d8ae6544bb8"
      },
      "source": [
        "df.info()"
      ],
      "execution_count": null,
      "outputs": [
        {
          "output_type": "stream",
          "text": [
            "<class 'pandas.core.frame.DataFrame'>\n",
            "RangeIndex: 118315 entries, 0 to 118314\n",
            "Data columns (total 15 columns):\n",
            " #   Column          Non-Null Count   Dtype  \n",
            "---  ------          --------------   -----  \n",
            " 0   Cliente         118315 non-null  object \n",
            " 1   CEP_Cliente     118315 non-null  int64  \n",
            " 2   Pedido          118315 non-null  object \n",
            " 3   id_Pedido       118315 non-null  int64  \n",
            " 4   Produto         118315 non-null  object \n",
            " 5   Vendedor        118315 non-null  object \n",
            " 6   Preco_produto   118315 non-null  float64\n",
            " 7   Frete           118315 non-null  float64\n",
            " 8   Parcela         118315 non-null  int64  \n",
            " 9   Tipo_pagamento  118315 non-null  object \n",
            " 10  Installments    118315 non-null  int64  \n",
            " 11  Valor_total     118315 non-null  float64\n",
            " 12  ID_Review       118315 non-null  object \n",
            " 13  CEP_Vendedor    118315 non-null  int64  \n",
            " 14  Score           118315 non-null  int64  \n",
            "dtypes: float64(3), int64(6), object(6)\n",
            "memory usage: 13.5+ MB\n"
          ],
          "name": "stdout"
        }
      ]
    },
    {
      "cell_type": "markdown",
      "metadata": {
        "id": "J6XCWwjoo-qR"
      },
      "source": [
        "**Agrupando os elementos do dataframe por consumidor**"
      ]
    },
    {
      "cell_type": "code",
      "metadata": {
        "colab": {
          "base_uri": "https://localhost:8080/"
        },
        "id": "ms7mqyohr3Vi",
        "outputId": "2e2d84ec-56f3-471f-c1d9-fd52ed9c870f"
      },
      "source": [
        "df.groupby(by='Cliente').size()"
      ],
      "execution_count": null,
      "outputs": [
        {
          "output_type": "execute_result",
          "data": {
            "text/plain": [
              "Cliente\n",
              "00012a2ce6f8dcda20d059ce98491703    1\n",
              "000161a058600d5901f007fab4c27140    1\n",
              "0001fd6190edaaf884bcaf3d49edf079    1\n",
              "0002414f95344307404f0ace7a26f1d5    1\n",
              "000379cdec625522490c315e70c7a9fb    1\n",
              "                                   ..\n",
              "fffcb937e9dd47a13f05ecb8290f4d3e    1\n",
              "fffecc9f79fd8c764f843e9951b11341    3\n",
              "fffeda5b6d849fbd39689bb92087f431    1\n",
              "ffff42319e9b2d713724ae527742af25    1\n",
              "ffffa3172527f765de70084a7e53aae8    2\n",
              "Length: 98665, dtype: int64"
            ]
          },
          "metadata": {
            "tags": []
          },
          "execution_count": 129
        }
      ]
    },
    {
      "cell_type": "markdown",
      "metadata": {
        "id": "NmOH3BXVpFXw"
      },
      "source": [
        "**Importando os métodos de árvore de decisão**"
      ]
    },
    {
      "cell_type": "code",
      "metadata": {
        "id": "iZkAJqTcr-Jx"
      },
      "source": [
        "from sklearn.tree import DecisionTreeClassifier, export_graphviz\n",
        "from sklearn.model_selection import train_test_split\n",
        "from sklearn import metrics"
      ],
      "execution_count": null,
      "outputs": []
    },
    {
      "cell_type": "markdown",
      "metadata": {
        "id": "D8vd_a8LpSZn"
      },
      "source": [
        "**Para simplificar os dados e evitar criar um dummy com esse dataframe, removemos todos os elementos não-numéricos para que o modelo seja capaz de realizar a execução. Solução encontrada para simplificar os atributos do tipo \"Objeto\" para tipos numéricos.**"
      ]
    },
    {
      "cell_type": "code",
      "metadata": {
        "colab": {
          "base_uri": "https://localhost:8080/",
          "height": 426
        },
        "id": "AaSgVhO_oRXa",
        "outputId": "c4e95572-3809-46a2-e214-df604cc2659d"
      },
      "source": [
        "df['Cliente'] = df['Cliente'].str.replace(r'\\D', '')\n",
        "df['Pedido'] = df['Pedido'].str.replace(r'\\D', '')\n",
        "df['Produto'] = df['Produto'].str.replace(r'\\D', '')\n",
        "df['Vendedor'] = df['Vendedor'].str.replace(r'\\D', '')\n",
        "df['ID_Review'] = df['ID_Review'].str.replace(r'\\D', '')\n",
        "df"
      ],
      "execution_count": null,
      "outputs": [
        {
          "output_type": "execute_result",
          "data": {
            "text/html": [
              "<div>\n",
              "<style scoped>\n",
              "    .dataframe tbody tr th:only-of-type {\n",
              "        vertical-align: middle;\n",
              "    }\n",
              "\n",
              "    .dataframe tbody tr th {\n",
              "        vertical-align: top;\n",
              "    }\n",
              "\n",
              "    .dataframe thead th {\n",
              "        text-align: right;\n",
              "    }\n",
              "</style>\n",
              "<table border=\"1\" class=\"dataframe\">\n",
              "  <thead>\n",
              "    <tr style=\"text-align: right;\">\n",
              "      <th></th>\n",
              "      <th>Cliente</th>\n",
              "      <th>CEP_Cliente</th>\n",
              "      <th>Pedido</th>\n",
              "      <th>id_Pedido</th>\n",
              "      <th>Produto</th>\n",
              "      <th>Vendedor</th>\n",
              "      <th>Preco_produto</th>\n",
              "      <th>Frete</th>\n",
              "      <th>Parcela</th>\n",
              "      <th>Tipo_pagamento</th>\n",
              "      <th>Installments</th>\n",
              "      <th>Valor_total</th>\n",
              "      <th>ID_Review</th>\n",
              "      <th>CEP_Vendedor</th>\n",
              "      <th>Score</th>\n",
              "    </tr>\n",
              "  </thead>\n",
              "  <tbody>\n",
              "    <tr>\n",
              "      <th>0</th>\n",
              "      <td>068999211881720087</td>\n",
              "      <td>14409</td>\n",
              "      <td>0071050849957707322971</td>\n",
              "      <td>1</td>\n",
              "      <td>9516079379936978101698</td>\n",
              "      <td>76714480069693656010</td>\n",
              "      <td>124.99</td>\n",
              "      <td>21.88</td>\n",
              "      <td>1</td>\n",
              "      <td>credit_card</td>\n",
              "      <td>2</td>\n",
              "      <td>146.87</td>\n",
              "      <td>88852460269121365930</td>\n",
              "      <td>8577</td>\n",
              "      <td>4</td>\n",
              "    </tr>\n",
              "    <tr>\n",
              "      <th>1</th>\n",
              "      <td>4730028858608712037403</td>\n",
              "      <td>1151</td>\n",
              "      <td>205967144362972992</td>\n",
              "      <td>1</td>\n",
              "      <td>0766896614945862518487</td>\n",
              "      <td>76714480069693656010</td>\n",
              "      <td>139.94</td>\n",
              "      <td>17.79</td>\n",
              "      <td>1</td>\n",
              "      <td>credit_card</td>\n",
              "      <td>7</td>\n",
              "      <td>157.73</td>\n",
              "      <td>56695761864734270698487</td>\n",
              "      <td>8577</td>\n",
              "      <td>5</td>\n",
              "    </tr>\n",
              "    <tr>\n",
              "      <th>2</th>\n",
              "      <td>260275510952946358123</td>\n",
              "      <td>8775</td>\n",
              "      <td>9516709235944631127306</td>\n",
              "      <td>1</td>\n",
              "      <td>564744977148034751092</td>\n",
              "      <td>76714480069693656010</td>\n",
              "      <td>149.94</td>\n",
              "      <td>23.36</td>\n",
              "      <td>1</td>\n",
              "      <td>credit_card</td>\n",
              "      <td>1</td>\n",
              "      <td>173.30</td>\n",
              "      <td>0598013162266672875</td>\n",
              "      <td>8577</td>\n",
              "      <td>5</td>\n",
              "    </tr>\n",
              "    <tr>\n",
              "      <th>3</th>\n",
              "      <td>406427971077955491</td>\n",
              "      <td>65075</td>\n",
              "      <td>9974373861057480116</td>\n",
              "      <td>1</td>\n",
              "      <td>8094076568610375</td>\n",
              "      <td>76714480069693656010</td>\n",
              "      <td>199.98</td>\n",
              "      <td>115.77</td>\n",
              "      <td>1</td>\n",
              "      <td>credit_card</td>\n",
              "      <td>6</td>\n",
              "      <td>315.75</td>\n",
              "      <td>2518803238635645934852</td>\n",
              "      <td>8577</td>\n",
              "      <td>1</td>\n",
              "    </tr>\n",
              "    <tr>\n",
              "      <th>4</th>\n",
              "      <td>827607252254128462738664</td>\n",
              "      <td>90010</td>\n",
              "      <td>631862016861141129</td>\n",
              "      <td>1</td>\n",
              "      <td>8609375091115750004</td>\n",
              "      <td>76714480069693656010</td>\n",
              "      <td>129.60</td>\n",
              "      <td>16.61</td>\n",
              "      <td>1</td>\n",
              "      <td>boleto</td>\n",
              "      <td>1</td>\n",
              "      <td>146.21</td>\n",
              "      <td>84467176677541425367905</td>\n",
              "      <td>8577</td>\n",
              "      <td>4</td>\n",
              "    </tr>\n",
              "    <tr>\n",
              "      <th>...</th>\n",
              "      <td>...</td>\n",
              "      <td>...</td>\n",
              "      <td>...</td>\n",
              "      <td>...</td>\n",
              "      <td>...</td>\n",
              "      <td>...</td>\n",
              "      <td>...</td>\n",
              "      <td>...</td>\n",
              "      <td>...</td>\n",
              "      <td>...</td>\n",
              "      <td>...</td>\n",
              "      <td>...</td>\n",
              "      <td>...</td>\n",
              "      <td>...</td>\n",
              "      <td>...</td>\n",
              "    </tr>\n",
              "    <tr>\n",
              "      <th>118310</th>\n",
              "      <td>1075167500095617</td>\n",
              "      <td>39920</td>\n",
              "      <td>49462463110524497277085909</td>\n",
              "      <td>1</td>\n",
              "      <td>242136271129618259334261</td>\n",
              "      <td>9140758211403593580567204</td>\n",
              "      <td>49.90</td>\n",
              "      <td>22.28</td>\n",
              "      <td>1</td>\n",
              "      <td>credit_card</td>\n",
              "      <td>3</td>\n",
              "      <td>72.18</td>\n",
              "      <td>70902082652897569110</td>\n",
              "      <td>87015</td>\n",
              "      <td>5</td>\n",
              "    </tr>\n",
              "    <tr>\n",
              "      <th>118311</th>\n",
              "      <td>0671403498200452602</td>\n",
              "      <td>7231</td>\n",
              "      <td>7331435643056154391</td>\n",
              "      <td>1</td>\n",
              "      <td>51514648249690076</td>\n",
              "      <td>414909055710300356</td>\n",
              "      <td>730.00</td>\n",
              "      <td>45.98</td>\n",
              "      <td>1</td>\n",
              "      <td>credit_card</td>\n",
              "      <td>10</td>\n",
              "      <td>775.98</td>\n",
              "      <td>274388990740389448855</td>\n",
              "      <td>9861</td>\n",
              "      <td>3</td>\n",
              "    </tr>\n",
              "    <tr>\n",
              "      <th>118312</th>\n",
              "      <td>908572770808078332363658</td>\n",
              "      <td>76400</td>\n",
              "      <td>76905458869336527267</td>\n",
              "      <td>1</td>\n",
              "      <td>6723658311543806891676</td>\n",
              "      <td>377183347821535223225</td>\n",
              "      <td>135.98</td>\n",
              "      <td>88.46</td>\n",
              "      <td>1</td>\n",
              "      <td>credit_card</td>\n",
              "      <td>6</td>\n",
              "      <td>224.44</td>\n",
              "      <td>601019591910776193298</td>\n",
              "      <td>83015</td>\n",
              "      <td>5</td>\n",
              "    </tr>\n",
              "    <tr>\n",
              "      <th>118313</th>\n",
              "      <td>108322995705926071768</td>\n",
              "      <td>37610</td>\n",
              "      <td>5162460589765251860206</td>\n",
              "      <td>1</td>\n",
              "      <td>98477838202378681</td>\n",
              "      <td>5104862382080742</td>\n",
              "      <td>167.99</td>\n",
              "      <td>31.93</td>\n",
              "      <td>1</td>\n",
              "      <td>credit_card</td>\n",
              "      <td>5</td>\n",
              "      <td>167.79</td>\n",
              "      <td>60328738426975435430539769</td>\n",
              "      <td>12914</td>\n",
              "      <td>1</td>\n",
              "    </tr>\n",
              "    <tr>\n",
              "      <th>118314</th>\n",
              "      <td>108322995705926071768</td>\n",
              "      <td>37610</td>\n",
              "      <td>5162460589765251860206</td>\n",
              "      <td>1</td>\n",
              "      <td>98477838202378681</td>\n",
              "      <td>5104862382080742</td>\n",
              "      <td>167.99</td>\n",
              "      <td>31.93</td>\n",
              "      <td>2</td>\n",
              "      <td>credit_card</td>\n",
              "      <td>1</td>\n",
              "      <td>32.13</td>\n",
              "      <td>60328738426975435430539769</td>\n",
              "      <td>12914</td>\n",
              "      <td>1</td>\n",
              "    </tr>\n",
              "  </tbody>\n",
              "</table>\n",
              "<p>118315 rows × 15 columns</p>\n",
              "</div>"
            ],
            "text/plain": [
              "                         Cliente  CEP_Cliente  ... CEP_Vendedor  Score\n",
              "0             068999211881720087        14409  ...         8577      4\n",
              "1         4730028858608712037403         1151  ...         8577      5\n",
              "2          260275510952946358123         8775  ...         8577      5\n",
              "3             406427971077955491        65075  ...         8577      1\n",
              "4       827607252254128462738664        90010  ...         8577      4\n",
              "...                          ...          ...  ...          ...    ...\n",
              "118310          1075167500095617        39920  ...        87015      5\n",
              "118311       0671403498200452602         7231  ...         9861      3\n",
              "118312  908572770808078332363658        76400  ...        83015      5\n",
              "118313     108322995705926071768        37610  ...        12914      1\n",
              "118314     108322995705926071768        37610  ...        12914      1\n",
              "\n",
              "[118315 rows x 15 columns]"
            ]
          },
          "metadata": {
            "tags": []
          },
          "execution_count": 168
        }
      ]
    },
    {
      "cell_type": "markdown",
      "metadata": {
        "id": "QnH0ZizKp8oS"
      },
      "source": [
        "**Realizamos o procedimento de remoção dos elementos não-numéricos para todas as colunas do tipo objeto com exceção do tipo de pagamento pois o tipo de pagamento se resume a poucas opções. Dessa forma, usamos a função get_dummies apenas para o tipo de pagamento**\n",
        "\n",
        "**Portanto, a coluna Tipo_pagamento se divide em quatro colunas com lógica booleana. As novas colunas são: Tipo_pagamento_boleto, \tTipo_pagamento_credit_card, Tipo_pagamento_debit_card, Tipo_pagamento_voucher**"
      ]
    },
    {
      "cell_type": "code",
      "metadata": {
        "id": "YKd_tWQkuQSg"
      },
      "source": [
        "result_df = pd.get_dummies(df, columns=[\"Tipo_pagamento\"])\n"
      ],
      "execution_count": null,
      "outputs": []
    },
    {
      "cell_type": "markdown",
      "metadata": {
        "id": "M3c9J8p3rKnq"
      },
      "source": [
        "**Resultado final do dataframe**"
      ]
    },
    {
      "cell_type": "code",
      "metadata": {
        "colab": {
          "base_uri": "https://localhost:8080/",
          "height": 426
        },
        "id": "yb6A7z8vucBa",
        "outputId": "1a5a1f09-13ac-4e4a-8bcf-d9b76dcaeb8f"
      },
      "source": [
        "result_df"
      ],
      "execution_count": null,
      "outputs": [
        {
          "output_type": "execute_result",
          "data": {
            "text/html": [
              "<div>\n",
              "<style scoped>\n",
              "    .dataframe tbody tr th:only-of-type {\n",
              "        vertical-align: middle;\n",
              "    }\n",
              "\n",
              "    .dataframe tbody tr th {\n",
              "        vertical-align: top;\n",
              "    }\n",
              "\n",
              "    .dataframe thead th {\n",
              "        text-align: right;\n",
              "    }\n",
              "</style>\n",
              "<table border=\"1\" class=\"dataframe\">\n",
              "  <thead>\n",
              "    <tr style=\"text-align: right;\">\n",
              "      <th></th>\n",
              "      <th>Cliente</th>\n",
              "      <th>CEP_Cliente</th>\n",
              "      <th>Pedido</th>\n",
              "      <th>id_Pedido</th>\n",
              "      <th>Produto</th>\n",
              "      <th>Vendedor</th>\n",
              "      <th>Preco_produto</th>\n",
              "      <th>Frete</th>\n",
              "      <th>Parcela</th>\n",
              "      <th>Installments</th>\n",
              "      <th>Valor_total</th>\n",
              "      <th>ID_Review</th>\n",
              "      <th>CEP_Vendedor</th>\n",
              "      <th>Score</th>\n",
              "      <th>Tipo_pagamento_boleto</th>\n",
              "      <th>Tipo_pagamento_credit_card</th>\n",
              "      <th>Tipo_pagamento_debit_card</th>\n",
              "      <th>Tipo_pagamento_voucher</th>\n",
              "    </tr>\n",
              "  </thead>\n",
              "  <tbody>\n",
              "    <tr>\n",
              "      <th>0</th>\n",
              "      <td>068999211881720087</td>\n",
              "      <td>14409</td>\n",
              "      <td>0071050849957707322971</td>\n",
              "      <td>1</td>\n",
              "      <td>9516079379936978101698</td>\n",
              "      <td>76714480069693656010</td>\n",
              "      <td>124.99</td>\n",
              "      <td>21.88</td>\n",
              "      <td>1</td>\n",
              "      <td>2</td>\n",
              "      <td>146.87</td>\n",
              "      <td>88852460269121365930</td>\n",
              "      <td>8577</td>\n",
              "      <td>4</td>\n",
              "      <td>0</td>\n",
              "      <td>1</td>\n",
              "      <td>0</td>\n",
              "      <td>0</td>\n",
              "    </tr>\n",
              "    <tr>\n",
              "      <th>1</th>\n",
              "      <td>4730028858608712037403</td>\n",
              "      <td>1151</td>\n",
              "      <td>205967144362972992</td>\n",
              "      <td>1</td>\n",
              "      <td>0766896614945862518487</td>\n",
              "      <td>76714480069693656010</td>\n",
              "      <td>139.94</td>\n",
              "      <td>17.79</td>\n",
              "      <td>1</td>\n",
              "      <td>7</td>\n",
              "      <td>157.73</td>\n",
              "      <td>56695761864734270698487</td>\n",
              "      <td>8577</td>\n",
              "      <td>5</td>\n",
              "      <td>0</td>\n",
              "      <td>1</td>\n",
              "      <td>0</td>\n",
              "      <td>0</td>\n",
              "    </tr>\n",
              "    <tr>\n",
              "      <th>2</th>\n",
              "      <td>260275510952946358123</td>\n",
              "      <td>8775</td>\n",
              "      <td>9516709235944631127306</td>\n",
              "      <td>1</td>\n",
              "      <td>564744977148034751092</td>\n",
              "      <td>76714480069693656010</td>\n",
              "      <td>149.94</td>\n",
              "      <td>23.36</td>\n",
              "      <td>1</td>\n",
              "      <td>1</td>\n",
              "      <td>173.30</td>\n",
              "      <td>0598013162266672875</td>\n",
              "      <td>8577</td>\n",
              "      <td>5</td>\n",
              "      <td>0</td>\n",
              "      <td>1</td>\n",
              "      <td>0</td>\n",
              "      <td>0</td>\n",
              "    </tr>\n",
              "    <tr>\n",
              "      <th>3</th>\n",
              "      <td>406427971077955491</td>\n",
              "      <td>65075</td>\n",
              "      <td>9974373861057480116</td>\n",
              "      <td>1</td>\n",
              "      <td>8094076568610375</td>\n",
              "      <td>76714480069693656010</td>\n",
              "      <td>199.98</td>\n",
              "      <td>115.77</td>\n",
              "      <td>1</td>\n",
              "      <td>6</td>\n",
              "      <td>315.75</td>\n",
              "      <td>2518803238635645934852</td>\n",
              "      <td>8577</td>\n",
              "      <td>1</td>\n",
              "      <td>0</td>\n",
              "      <td>1</td>\n",
              "      <td>0</td>\n",
              "      <td>0</td>\n",
              "    </tr>\n",
              "    <tr>\n",
              "      <th>4</th>\n",
              "      <td>827607252254128462738664</td>\n",
              "      <td>90010</td>\n",
              "      <td>631862016861141129</td>\n",
              "      <td>1</td>\n",
              "      <td>8609375091115750004</td>\n",
              "      <td>76714480069693656010</td>\n",
              "      <td>129.60</td>\n",
              "      <td>16.61</td>\n",
              "      <td>1</td>\n",
              "      <td>1</td>\n",
              "      <td>146.21</td>\n",
              "      <td>84467176677541425367905</td>\n",
              "      <td>8577</td>\n",
              "      <td>4</td>\n",
              "      <td>1</td>\n",
              "      <td>0</td>\n",
              "      <td>0</td>\n",
              "      <td>0</td>\n",
              "    </tr>\n",
              "    <tr>\n",
              "      <th>...</th>\n",
              "      <td>...</td>\n",
              "      <td>...</td>\n",
              "      <td>...</td>\n",
              "      <td>...</td>\n",
              "      <td>...</td>\n",
              "      <td>...</td>\n",
              "      <td>...</td>\n",
              "      <td>...</td>\n",
              "      <td>...</td>\n",
              "      <td>...</td>\n",
              "      <td>...</td>\n",
              "      <td>...</td>\n",
              "      <td>...</td>\n",
              "      <td>...</td>\n",
              "      <td>...</td>\n",
              "      <td>...</td>\n",
              "      <td>...</td>\n",
              "      <td>...</td>\n",
              "    </tr>\n",
              "    <tr>\n",
              "      <th>118310</th>\n",
              "      <td>1075167500095617</td>\n",
              "      <td>39920</td>\n",
              "      <td>49462463110524497277085909</td>\n",
              "      <td>1</td>\n",
              "      <td>242136271129618259334261</td>\n",
              "      <td>9140758211403593580567204</td>\n",
              "      <td>49.90</td>\n",
              "      <td>22.28</td>\n",
              "      <td>1</td>\n",
              "      <td>3</td>\n",
              "      <td>72.18</td>\n",
              "      <td>70902082652897569110</td>\n",
              "      <td>87015</td>\n",
              "      <td>5</td>\n",
              "      <td>0</td>\n",
              "      <td>1</td>\n",
              "      <td>0</td>\n",
              "      <td>0</td>\n",
              "    </tr>\n",
              "    <tr>\n",
              "      <th>118311</th>\n",
              "      <td>0671403498200452602</td>\n",
              "      <td>7231</td>\n",
              "      <td>7331435643056154391</td>\n",
              "      <td>1</td>\n",
              "      <td>51514648249690076</td>\n",
              "      <td>414909055710300356</td>\n",
              "      <td>730.00</td>\n",
              "      <td>45.98</td>\n",
              "      <td>1</td>\n",
              "      <td>10</td>\n",
              "      <td>775.98</td>\n",
              "      <td>274388990740389448855</td>\n",
              "      <td>9861</td>\n",
              "      <td>3</td>\n",
              "      <td>0</td>\n",
              "      <td>1</td>\n",
              "      <td>0</td>\n",
              "      <td>0</td>\n",
              "    </tr>\n",
              "    <tr>\n",
              "      <th>118312</th>\n",
              "      <td>908572770808078332363658</td>\n",
              "      <td>76400</td>\n",
              "      <td>76905458869336527267</td>\n",
              "      <td>1</td>\n",
              "      <td>6723658311543806891676</td>\n",
              "      <td>377183347821535223225</td>\n",
              "      <td>135.98</td>\n",
              "      <td>88.46</td>\n",
              "      <td>1</td>\n",
              "      <td>6</td>\n",
              "      <td>224.44</td>\n",
              "      <td>601019591910776193298</td>\n",
              "      <td>83015</td>\n",
              "      <td>5</td>\n",
              "      <td>0</td>\n",
              "      <td>1</td>\n",
              "      <td>0</td>\n",
              "      <td>0</td>\n",
              "    </tr>\n",
              "    <tr>\n",
              "      <th>118313</th>\n",
              "      <td>108322995705926071768</td>\n",
              "      <td>37610</td>\n",
              "      <td>5162460589765251860206</td>\n",
              "      <td>1</td>\n",
              "      <td>98477838202378681</td>\n",
              "      <td>5104862382080742</td>\n",
              "      <td>167.99</td>\n",
              "      <td>31.93</td>\n",
              "      <td>1</td>\n",
              "      <td>5</td>\n",
              "      <td>167.79</td>\n",
              "      <td>60328738426975435430539769</td>\n",
              "      <td>12914</td>\n",
              "      <td>1</td>\n",
              "      <td>0</td>\n",
              "      <td>1</td>\n",
              "      <td>0</td>\n",
              "      <td>0</td>\n",
              "    </tr>\n",
              "    <tr>\n",
              "      <th>118314</th>\n",
              "      <td>108322995705926071768</td>\n",
              "      <td>37610</td>\n",
              "      <td>5162460589765251860206</td>\n",
              "      <td>1</td>\n",
              "      <td>98477838202378681</td>\n",
              "      <td>5104862382080742</td>\n",
              "      <td>167.99</td>\n",
              "      <td>31.93</td>\n",
              "      <td>2</td>\n",
              "      <td>1</td>\n",
              "      <td>32.13</td>\n",
              "      <td>60328738426975435430539769</td>\n",
              "      <td>12914</td>\n",
              "      <td>1</td>\n",
              "      <td>0</td>\n",
              "      <td>1</td>\n",
              "      <td>0</td>\n",
              "      <td>0</td>\n",
              "    </tr>\n",
              "  </tbody>\n",
              "</table>\n",
              "<p>118315 rows × 18 columns</p>\n",
              "</div>"
            ],
            "text/plain": [
              "                         Cliente  ...  Tipo_pagamento_voucher\n",
              "0             068999211881720087  ...                       0\n",
              "1         4730028858608712037403  ...                       0\n",
              "2          260275510952946358123  ...                       0\n",
              "3             406427971077955491  ...                       0\n",
              "4       827607252254128462738664  ...                       0\n",
              "...                          ...  ...                     ...\n",
              "118310          1075167500095617  ...                       0\n",
              "118311       0671403498200452602  ...                       0\n",
              "118312  908572770808078332363658  ...                       0\n",
              "118313     108322995705926071768  ...                       0\n",
              "118314     108322995705926071768  ...                       0\n",
              "\n",
              "[118315 rows x 18 columns]"
            ]
          },
          "metadata": {
            "tags": []
          },
          "execution_count": 171
        }
      ]
    },
    {
      "cell_type": "markdown",
      "metadata": {
        "id": "JitzjNP6rSOX"
      },
      "source": [
        "**Criação de um dataframe reserva para possíveis conclusões**"
      ]
    },
    {
      "cell_type": "code",
      "metadata": {
        "colab": {
          "base_uri": "https://localhost:8080/",
          "height": 426
        },
        "id": "fhoaN5g41GrY",
        "outputId": "1a5fa314-cd2a-4dab-e077-3090c22825f0"
      },
      "source": [
        "reserva = result_df\n",
        "reserva"
      ],
      "execution_count": null,
      "outputs": [
        {
          "output_type": "execute_result",
          "data": {
            "text/html": [
              "<div>\n",
              "<style scoped>\n",
              "    .dataframe tbody tr th:only-of-type {\n",
              "        vertical-align: middle;\n",
              "    }\n",
              "\n",
              "    .dataframe tbody tr th {\n",
              "        vertical-align: top;\n",
              "    }\n",
              "\n",
              "    .dataframe thead th {\n",
              "        text-align: right;\n",
              "    }\n",
              "</style>\n",
              "<table border=\"1\" class=\"dataframe\">\n",
              "  <thead>\n",
              "    <tr style=\"text-align: right;\">\n",
              "      <th></th>\n",
              "      <th>Cliente</th>\n",
              "      <th>CEP_Cliente</th>\n",
              "      <th>Pedido</th>\n",
              "      <th>id_Pedido</th>\n",
              "      <th>Produto</th>\n",
              "      <th>Vendedor</th>\n",
              "      <th>Preco_produto</th>\n",
              "      <th>Frete</th>\n",
              "      <th>Parcela</th>\n",
              "      <th>Installments</th>\n",
              "      <th>Valor_total</th>\n",
              "      <th>ID_Review</th>\n",
              "      <th>CEP_Vendedor</th>\n",
              "      <th>Score</th>\n",
              "      <th>Tipo_pagamento_boleto</th>\n",
              "      <th>Tipo_pagamento_credit_card</th>\n",
              "      <th>Tipo_pagamento_debit_card</th>\n",
              "      <th>Tipo_pagamento_voucher</th>\n",
              "    </tr>\n",
              "  </thead>\n",
              "  <tbody>\n",
              "    <tr>\n",
              "      <th>0</th>\n",
              "      <td>068999211881720087</td>\n",
              "      <td>14409</td>\n",
              "      <td>0071050849957707322971</td>\n",
              "      <td>1</td>\n",
              "      <td>9516079379936978101698</td>\n",
              "      <td>76714480069693656010</td>\n",
              "      <td>124.99</td>\n",
              "      <td>21.88</td>\n",
              "      <td>1</td>\n",
              "      <td>2</td>\n",
              "      <td>146.87</td>\n",
              "      <td>88852460269121365930</td>\n",
              "      <td>8577</td>\n",
              "      <td>4</td>\n",
              "      <td>0</td>\n",
              "      <td>1</td>\n",
              "      <td>0</td>\n",
              "      <td>0</td>\n",
              "    </tr>\n",
              "    <tr>\n",
              "      <th>1</th>\n",
              "      <td>4730028858608712037403</td>\n",
              "      <td>1151</td>\n",
              "      <td>205967144362972992</td>\n",
              "      <td>1</td>\n",
              "      <td>0766896614945862518487</td>\n",
              "      <td>76714480069693656010</td>\n",
              "      <td>139.94</td>\n",
              "      <td>17.79</td>\n",
              "      <td>1</td>\n",
              "      <td>7</td>\n",
              "      <td>157.73</td>\n",
              "      <td>56695761864734270698487</td>\n",
              "      <td>8577</td>\n",
              "      <td>5</td>\n",
              "      <td>0</td>\n",
              "      <td>1</td>\n",
              "      <td>0</td>\n",
              "      <td>0</td>\n",
              "    </tr>\n",
              "    <tr>\n",
              "      <th>2</th>\n",
              "      <td>260275510952946358123</td>\n",
              "      <td>8775</td>\n",
              "      <td>9516709235944631127306</td>\n",
              "      <td>1</td>\n",
              "      <td>564744977148034751092</td>\n",
              "      <td>76714480069693656010</td>\n",
              "      <td>149.94</td>\n",
              "      <td>23.36</td>\n",
              "      <td>1</td>\n",
              "      <td>1</td>\n",
              "      <td>173.30</td>\n",
              "      <td>0598013162266672875</td>\n",
              "      <td>8577</td>\n",
              "      <td>5</td>\n",
              "      <td>0</td>\n",
              "      <td>1</td>\n",
              "      <td>0</td>\n",
              "      <td>0</td>\n",
              "    </tr>\n",
              "    <tr>\n",
              "      <th>3</th>\n",
              "      <td>406427971077955491</td>\n",
              "      <td>65075</td>\n",
              "      <td>9974373861057480116</td>\n",
              "      <td>1</td>\n",
              "      <td>8094076568610375</td>\n",
              "      <td>76714480069693656010</td>\n",
              "      <td>199.98</td>\n",
              "      <td>115.77</td>\n",
              "      <td>1</td>\n",
              "      <td>6</td>\n",
              "      <td>315.75</td>\n",
              "      <td>2518803238635645934852</td>\n",
              "      <td>8577</td>\n",
              "      <td>1</td>\n",
              "      <td>0</td>\n",
              "      <td>1</td>\n",
              "      <td>0</td>\n",
              "      <td>0</td>\n",
              "    </tr>\n",
              "    <tr>\n",
              "      <th>4</th>\n",
              "      <td>827607252254128462738664</td>\n",
              "      <td>90010</td>\n",
              "      <td>631862016861141129</td>\n",
              "      <td>1</td>\n",
              "      <td>8609375091115750004</td>\n",
              "      <td>76714480069693656010</td>\n",
              "      <td>129.60</td>\n",
              "      <td>16.61</td>\n",
              "      <td>1</td>\n",
              "      <td>1</td>\n",
              "      <td>146.21</td>\n",
              "      <td>84467176677541425367905</td>\n",
              "      <td>8577</td>\n",
              "      <td>4</td>\n",
              "      <td>1</td>\n",
              "      <td>0</td>\n",
              "      <td>0</td>\n",
              "      <td>0</td>\n",
              "    </tr>\n",
              "    <tr>\n",
              "      <th>...</th>\n",
              "      <td>...</td>\n",
              "      <td>...</td>\n",
              "      <td>...</td>\n",
              "      <td>...</td>\n",
              "      <td>...</td>\n",
              "      <td>...</td>\n",
              "      <td>...</td>\n",
              "      <td>...</td>\n",
              "      <td>...</td>\n",
              "      <td>...</td>\n",
              "      <td>...</td>\n",
              "      <td>...</td>\n",
              "      <td>...</td>\n",
              "      <td>...</td>\n",
              "      <td>...</td>\n",
              "      <td>...</td>\n",
              "      <td>...</td>\n",
              "      <td>...</td>\n",
              "    </tr>\n",
              "    <tr>\n",
              "      <th>118310</th>\n",
              "      <td>1075167500095617</td>\n",
              "      <td>39920</td>\n",
              "      <td>49462463110524497277085909</td>\n",
              "      <td>1</td>\n",
              "      <td>242136271129618259334261</td>\n",
              "      <td>9140758211403593580567204</td>\n",
              "      <td>49.90</td>\n",
              "      <td>22.28</td>\n",
              "      <td>1</td>\n",
              "      <td>3</td>\n",
              "      <td>72.18</td>\n",
              "      <td>70902082652897569110</td>\n",
              "      <td>87015</td>\n",
              "      <td>5</td>\n",
              "      <td>0</td>\n",
              "      <td>1</td>\n",
              "      <td>0</td>\n",
              "      <td>0</td>\n",
              "    </tr>\n",
              "    <tr>\n",
              "      <th>118311</th>\n",
              "      <td>0671403498200452602</td>\n",
              "      <td>7231</td>\n",
              "      <td>7331435643056154391</td>\n",
              "      <td>1</td>\n",
              "      <td>51514648249690076</td>\n",
              "      <td>414909055710300356</td>\n",
              "      <td>730.00</td>\n",
              "      <td>45.98</td>\n",
              "      <td>1</td>\n",
              "      <td>10</td>\n",
              "      <td>775.98</td>\n",
              "      <td>274388990740389448855</td>\n",
              "      <td>9861</td>\n",
              "      <td>3</td>\n",
              "      <td>0</td>\n",
              "      <td>1</td>\n",
              "      <td>0</td>\n",
              "      <td>0</td>\n",
              "    </tr>\n",
              "    <tr>\n",
              "      <th>118312</th>\n",
              "      <td>908572770808078332363658</td>\n",
              "      <td>76400</td>\n",
              "      <td>76905458869336527267</td>\n",
              "      <td>1</td>\n",
              "      <td>6723658311543806891676</td>\n",
              "      <td>377183347821535223225</td>\n",
              "      <td>135.98</td>\n",
              "      <td>88.46</td>\n",
              "      <td>1</td>\n",
              "      <td>6</td>\n",
              "      <td>224.44</td>\n",
              "      <td>601019591910776193298</td>\n",
              "      <td>83015</td>\n",
              "      <td>5</td>\n",
              "      <td>0</td>\n",
              "      <td>1</td>\n",
              "      <td>0</td>\n",
              "      <td>0</td>\n",
              "    </tr>\n",
              "    <tr>\n",
              "      <th>118313</th>\n",
              "      <td>108322995705926071768</td>\n",
              "      <td>37610</td>\n",
              "      <td>5162460589765251860206</td>\n",
              "      <td>1</td>\n",
              "      <td>98477838202378681</td>\n",
              "      <td>5104862382080742</td>\n",
              "      <td>167.99</td>\n",
              "      <td>31.93</td>\n",
              "      <td>1</td>\n",
              "      <td>5</td>\n",
              "      <td>167.79</td>\n",
              "      <td>60328738426975435430539769</td>\n",
              "      <td>12914</td>\n",
              "      <td>1</td>\n",
              "      <td>0</td>\n",
              "      <td>1</td>\n",
              "      <td>0</td>\n",
              "      <td>0</td>\n",
              "    </tr>\n",
              "    <tr>\n",
              "      <th>118314</th>\n",
              "      <td>108322995705926071768</td>\n",
              "      <td>37610</td>\n",
              "      <td>5162460589765251860206</td>\n",
              "      <td>1</td>\n",
              "      <td>98477838202378681</td>\n",
              "      <td>5104862382080742</td>\n",
              "      <td>167.99</td>\n",
              "      <td>31.93</td>\n",
              "      <td>2</td>\n",
              "      <td>1</td>\n",
              "      <td>32.13</td>\n",
              "      <td>60328738426975435430539769</td>\n",
              "      <td>12914</td>\n",
              "      <td>1</td>\n",
              "      <td>0</td>\n",
              "      <td>1</td>\n",
              "      <td>0</td>\n",
              "      <td>0</td>\n",
              "    </tr>\n",
              "  </tbody>\n",
              "</table>\n",
              "<p>118315 rows × 18 columns</p>\n",
              "</div>"
            ],
            "text/plain": [
              "                         Cliente  ...  Tipo_pagamento_voucher\n",
              "0             068999211881720087  ...                       0\n",
              "1         4730028858608712037403  ...                       0\n",
              "2          260275510952946358123  ...                       0\n",
              "3             406427971077955491  ...                       0\n",
              "4       827607252254128462738664  ...                       0\n",
              "...                          ...  ...                     ...\n",
              "118310          1075167500095617  ...                       0\n",
              "118311       0671403498200452602  ...                       0\n",
              "118312  908572770808078332363658  ...                       0\n",
              "118313     108322995705926071768  ...                       0\n",
              "118314     108322995705926071768  ...                       0\n",
              "\n",
              "[118315 rows x 18 columns]"
            ]
          },
          "metadata": {
            "tags": []
          },
          "execution_count": 223
        }
      ]
    },
    {
      "cell_type": "markdown",
      "metadata": {
        "id": "rcQS41Cgrbyc"
      },
      "source": [
        "**Eliminando todas as linhas com nível 4 ou nível 5 de satisfação. Dessa forma, temos um dataframe com todos os dados, e um apenas com dados classificados com nível 3,2 ou 1 ou seja, mediano, ruim ou péssimo. (elementos que apresentam nível de insatisfação interessante para análise)**"
      ]
    },
    {
      "cell_type": "code",
      "metadata": {
        "colab": {
          "base_uri": "https://localhost:8080/",
          "height": 426
        },
        "id": "zsJnHcd41PQg",
        "outputId": "f5129c76-19b2-49bc-c72d-476145ad78e4"
      },
      "source": [
        "reserva = reserva.drop(reserva[reserva.Score > 3].index)\n",
        "reserva\n"
      ],
      "execution_count": null,
      "outputs": [
        {
          "output_type": "execute_result",
          "data": {
            "text/html": [
              "<div>\n",
              "<style scoped>\n",
              "    .dataframe tbody tr th:only-of-type {\n",
              "        vertical-align: middle;\n",
              "    }\n",
              "\n",
              "    .dataframe tbody tr th {\n",
              "        vertical-align: top;\n",
              "    }\n",
              "\n",
              "    .dataframe thead th {\n",
              "        text-align: right;\n",
              "    }\n",
              "</style>\n",
              "<table border=\"1\" class=\"dataframe\">\n",
              "  <thead>\n",
              "    <tr style=\"text-align: right;\">\n",
              "      <th></th>\n",
              "      <th>Cliente</th>\n",
              "      <th>CEP_Cliente</th>\n",
              "      <th>Pedido</th>\n",
              "      <th>id_Pedido</th>\n",
              "      <th>Produto</th>\n",
              "      <th>Vendedor</th>\n",
              "      <th>Preco_produto</th>\n",
              "      <th>Frete</th>\n",
              "      <th>Parcela</th>\n",
              "      <th>Installments</th>\n",
              "      <th>Valor_total</th>\n",
              "      <th>ID_Review</th>\n",
              "      <th>CEP_Vendedor</th>\n",
              "      <th>Score</th>\n",
              "      <th>Tipo_pagamento_boleto</th>\n",
              "      <th>Tipo_pagamento_credit_card</th>\n",
              "      <th>Tipo_pagamento_debit_card</th>\n",
              "      <th>Tipo_pagamento_voucher</th>\n",
              "    </tr>\n",
              "  </thead>\n",
              "  <tbody>\n",
              "    <tr>\n",
              "      <th>3</th>\n",
              "      <td>406427971077955491</td>\n",
              "      <td>65075</td>\n",
              "      <td>9974373861057480116</td>\n",
              "      <td>1</td>\n",
              "      <td>8094076568610375</td>\n",
              "      <td>76714480069693656010</td>\n",
              "      <td>199.98</td>\n",
              "      <td>115.77</td>\n",
              "      <td>1</td>\n",
              "      <td>6</td>\n",
              "      <td>315.75</td>\n",
              "      <td>2518803238635645934852</td>\n",
              "      <td>8577</td>\n",
              "      <td>1</td>\n",
              "      <td>0</td>\n",
              "      <td>1</td>\n",
              "      <td>0</td>\n",
              "      <td>0</td>\n",
              "    </tr>\n",
              "    <tr>\n",
              "      <th>7</th>\n",
              "      <td>0372810041857927016263</td>\n",
              "      <td>21010</td>\n",
              "      <td>369525670169482825831</td>\n",
              "      <td>1</td>\n",
              "      <td>9149964056487642250089</td>\n",
              "      <td>76714480069693656010</td>\n",
              "      <td>78.98</td>\n",
              "      <td>39.48</td>\n",
              "      <td>1</td>\n",
              "      <td>1</td>\n",
              "      <td>118.46</td>\n",
              "      <td>50240342442053299029167</td>\n",
              "      <td>8577</td>\n",
              "      <td>2</td>\n",
              "      <td>1</td>\n",
              "      <td>0</td>\n",
              "      <td>0</td>\n",
              "      <td>0</td>\n",
              "    </tr>\n",
              "    <tr>\n",
              "      <th>18</th>\n",
              "      <td>45800571938861445</td>\n",
              "      <td>13485</td>\n",
              "      <td>3793048208056190003</td>\n",
              "      <td>1</td>\n",
              "      <td>073816586646007781918834</td>\n",
              "      <td>76714480069693656010</td>\n",
              "      <td>209.99</td>\n",
              "      <td>36.98</td>\n",
              "      <td>1</td>\n",
              "      <td>4</td>\n",
              "      <td>246.97</td>\n",
              "      <td>19338660916893707370094</td>\n",
              "      <td>8577</td>\n",
              "      <td>3</td>\n",
              "      <td>0</td>\n",
              "      <td>1</td>\n",
              "      <td>0</td>\n",
              "      <td>0</td>\n",
              "    </tr>\n",
              "    <tr>\n",
              "      <th>19</th>\n",
              "      <td>19530467435951219042</td>\n",
              "      <td>20920</td>\n",
              "      <td>54813422788333035171945</td>\n",
              "      <td>1</td>\n",
              "      <td>466668028836324039256</td>\n",
              "      <td>76714480069693656010</td>\n",
              "      <td>159.98</td>\n",
              "      <td>49.49</td>\n",
              "      <td>1</td>\n",
              "      <td>1</td>\n",
              "      <td>209.47</td>\n",
              "      <td>576586473748925439048</td>\n",
              "      <td>8577</td>\n",
              "      <td>1</td>\n",
              "      <td>1</td>\n",
              "      <td>0</td>\n",
              "      <td>0</td>\n",
              "      <td>0</td>\n",
              "    </tr>\n",
              "    <tr>\n",
              "      <th>21</th>\n",
              "      <td>52814168460899591</td>\n",
              "      <td>36091</td>\n",
              "      <td>532771277634465595</td>\n",
              "      <td>1</td>\n",
              "      <td>44685813716436</td>\n",
              "      <td>76714480069693656010</td>\n",
              "      <td>129.94</td>\n",
              "      <td>73.86</td>\n",
              "      <td>1</td>\n",
              "      <td>4</td>\n",
              "      <td>203.80</td>\n",
              "      <td>47648253909483401757</td>\n",
              "      <td>8577</td>\n",
              "      <td>1</td>\n",
              "      <td>0</td>\n",
              "      <td>1</td>\n",
              "      <td>0</td>\n",
              "      <td>0</td>\n",
              "    </tr>\n",
              "    <tr>\n",
              "      <th>...</th>\n",
              "      <td>...</td>\n",
              "      <td>...</td>\n",
              "      <td>...</td>\n",
              "      <td>...</td>\n",
              "      <td>...</td>\n",
              "      <td>...</td>\n",
              "      <td>...</td>\n",
              "      <td>...</td>\n",
              "      <td>...</td>\n",
              "      <td>...</td>\n",
              "      <td>...</td>\n",
              "      <td>...</td>\n",
              "      <td>...</td>\n",
              "      <td>...</td>\n",
              "      <td>...</td>\n",
              "      <td>...</td>\n",
              "      <td>...</td>\n",
              "      <td>...</td>\n",
              "    </tr>\n",
              "    <tr>\n",
              "      <th>118306</th>\n",
              "      <td>049671902463228846651580</td>\n",
              "      <td>4929</td>\n",
              "      <td>93358729701080188455</td>\n",
              "      <td>1</td>\n",
              "      <td>72966155721853046438</td>\n",
              "      <td>929923957665903146465</td>\n",
              "      <td>109.00</td>\n",
              "      <td>12.67</td>\n",
              "      <td>1</td>\n",
              "      <td>1</td>\n",
              "      <td>121.67</td>\n",
              "      <td>4396354052945949758</td>\n",
              "      <td>4310</td>\n",
              "      <td>1</td>\n",
              "      <td>1</td>\n",
              "      <td>0</td>\n",
              "      <td>0</td>\n",
              "      <td>0</td>\n",
              "    </tr>\n",
              "    <tr>\n",
              "      <th>118309</th>\n",
              "      <td>211018165721598633401</td>\n",
              "      <td>18650</td>\n",
              "      <td>357035504504584</td>\n",
              "      <td>1</td>\n",
              "      <td>44442901095795215892510</td>\n",
              "      <td>46565251517718193618677</td>\n",
              "      <td>226.60</td>\n",
              "      <td>25.67</td>\n",
              "      <td>1</td>\n",
              "      <td>5</td>\n",
              "      <td>252.27</td>\n",
              "      <td>220719962586900027</td>\n",
              "      <td>9895</td>\n",
              "      <td>3</td>\n",
              "      <td>0</td>\n",
              "      <td>1</td>\n",
              "      <td>0</td>\n",
              "      <td>0</td>\n",
              "    </tr>\n",
              "    <tr>\n",
              "      <th>118311</th>\n",
              "      <td>0671403498200452602</td>\n",
              "      <td>7231</td>\n",
              "      <td>7331435643056154391</td>\n",
              "      <td>1</td>\n",
              "      <td>51514648249690076</td>\n",
              "      <td>414909055710300356</td>\n",
              "      <td>730.00</td>\n",
              "      <td>45.98</td>\n",
              "      <td>1</td>\n",
              "      <td>10</td>\n",
              "      <td>775.98</td>\n",
              "      <td>274388990740389448855</td>\n",
              "      <td>9861</td>\n",
              "      <td>3</td>\n",
              "      <td>0</td>\n",
              "      <td>1</td>\n",
              "      <td>0</td>\n",
              "      <td>0</td>\n",
              "    </tr>\n",
              "    <tr>\n",
              "      <th>118313</th>\n",
              "      <td>108322995705926071768</td>\n",
              "      <td>37610</td>\n",
              "      <td>5162460589765251860206</td>\n",
              "      <td>1</td>\n",
              "      <td>98477838202378681</td>\n",
              "      <td>5104862382080742</td>\n",
              "      <td>167.99</td>\n",
              "      <td>31.93</td>\n",
              "      <td>1</td>\n",
              "      <td>5</td>\n",
              "      <td>167.79</td>\n",
              "      <td>60328738426975435430539769</td>\n",
              "      <td>12914</td>\n",
              "      <td>1</td>\n",
              "      <td>0</td>\n",
              "      <td>1</td>\n",
              "      <td>0</td>\n",
              "      <td>0</td>\n",
              "    </tr>\n",
              "    <tr>\n",
              "      <th>118314</th>\n",
              "      <td>108322995705926071768</td>\n",
              "      <td>37610</td>\n",
              "      <td>5162460589765251860206</td>\n",
              "      <td>1</td>\n",
              "      <td>98477838202378681</td>\n",
              "      <td>5104862382080742</td>\n",
              "      <td>167.99</td>\n",
              "      <td>31.93</td>\n",
              "      <td>2</td>\n",
              "      <td>1</td>\n",
              "      <td>32.13</td>\n",
              "      <td>60328738426975435430539769</td>\n",
              "      <td>12914</td>\n",
              "      <td>1</td>\n",
              "      <td>0</td>\n",
              "      <td>1</td>\n",
              "      <td>0</td>\n",
              "      <td>0</td>\n",
              "    </tr>\n",
              "  </tbody>\n",
              "</table>\n",
              "<p>29593 rows × 18 columns</p>\n",
              "</div>"
            ],
            "text/plain": [
              "                         Cliente  ...  Tipo_pagamento_voucher\n",
              "3             406427971077955491  ...                       0\n",
              "7         0372810041857927016263  ...                       0\n",
              "18             45800571938861445  ...                       0\n",
              "19          19530467435951219042  ...                       0\n",
              "21             52814168460899591  ...                       0\n",
              "...                          ...  ...                     ...\n",
              "118306  049671902463228846651580  ...                       0\n",
              "118309     211018165721598633401  ...                       0\n",
              "118311       0671403498200452602  ...                       0\n",
              "118313     108322995705926071768  ...                       0\n",
              "118314     108322995705926071768  ...                       0\n",
              "\n",
              "[29593 rows x 18 columns]"
            ]
          },
          "metadata": {
            "tags": []
          },
          "execution_count": 226
        }
      ]
    },
    {
      "cell_type": "markdown",
      "metadata": {
        "id": "EvyVhc4SsCeK"
      },
      "source": [
        "**Processo de separação de treine/teste**\n",
        "\n",
        "**Proporções estabelecidas:**\n",
        "\n",
        "**70% treino**\n",
        "\n",
        "**30% teste**"
      ]
    },
    {
      "cell_type": "code",
      "metadata": {
        "id": "qkxlrlPQuxEj"
      },
      "source": [
        "X_train, X_test, y_train, y_test = train_test_split(result_df.drop('Score', axis=1), result_df['Score'], test_size=0.3)"
      ],
      "execution_count": null,
      "outputs": []
    },
    {
      "cell_type": "markdown",
      "metadata": {
        "id": "tAFvAFdUsbwN"
      },
      "source": [
        "**Número de amostras para cada processo**"
      ]
    },
    {
      "cell_type": "code",
      "metadata": {
        "colab": {
          "base_uri": "https://localhost:8080/"
        },
        "id": "Nd5-MBfhvSIO",
        "outputId": "34471355-d94b-46bc-929e-c22a32e06475"
      },
      "source": [
        "X_train.shape, X_test.shape"
      ],
      "execution_count": null,
      "outputs": [
        {
          "output_type": "execute_result",
          "data": {
            "text/plain": [
              "((82820, 17), (35495, 17))"
            ]
          },
          "metadata": {
            "tags": []
          },
          "execution_count": 173
        }
      ]
    },
    {
      "cell_type": "markdown",
      "metadata": {
        "id": "9RscsBD7sj6B"
      },
      "source": [
        "**Número de targets para cada processo**"
      ]
    },
    {
      "cell_type": "code",
      "metadata": {
        "colab": {
          "base_uri": "https://localhost:8080/"
        },
        "id": "JMLrmy6Kvjqp",
        "outputId": "fbc1b7c6-c877-4e67-fa70-beeb3051891f"
      },
      "source": [
        "y_train.shape, y_test.shape"
      ],
      "execution_count": null,
      "outputs": [
        {
          "output_type": "execute_result",
          "data": {
            "text/plain": [
              "((82820,), (35495,))"
            ]
          },
          "metadata": {
            "tags": []
          },
          "execution_count": 174
        }
      ]
    },
    {
      "cell_type": "markdown",
      "metadata": {
        "id": "g5AiSR7Nsq3-"
      },
      "source": [
        "**Criação do classifcador**"
      ]
    },
    {
      "cell_type": "code",
      "metadata": {
        "id": "9aWgIjFMvqFs"
      },
      "source": [
        "cls = DecisionTreeClassifier()"
      ],
      "execution_count": null,
      "outputs": []
    },
    {
      "cell_type": "markdown",
      "metadata": {
        "id": "xzwBsel3sxQd"
      },
      "source": [
        "**Treinamento**"
      ]
    },
    {
      "cell_type": "code",
      "metadata": {
        "id": "8DIWgvnEnoOU"
      },
      "source": [
        "cls = cls.fit(X_train, y_train)"
      ],
      "execution_count": null,
      "outputs": []
    },
    {
      "cell_type": "markdown",
      "metadata": {
        "id": "X9vbLtpgszwX"
      },
      "source": [
        "**Vetor com as importancias de cada atributo para a determinação do review_score**"
      ]
    },
    {
      "cell_type": "code",
      "metadata": {
        "id": "qFwlgWk90yrM",
        "colab": {
          "base_uri": "https://localhost:8080/"
        },
        "outputId": "9ca8d911-b0e8-408d-f960-4ccb06886ade"
      },
      "source": [
        "cls.feature_importances_"
      ],
      "execution_count": null,
      "outputs": [
        {
          "output_type": "execute_result",
          "data": {
            "text/plain": [
              "array([0.10390396, 0.11024563, 0.10356182, 0.00756018, 0.09445855,\n",
              "       0.07974123, 0.08029503, 0.08109755, 0.00294333, 0.03654096,\n",
              "       0.08643976, 0.11395647, 0.07748421, 0.0083304 , 0.00813804,\n",
              "       0.00214091, 0.00316196])"
            ]
          },
          "metadata": {
            "tags": []
          },
          "execution_count": 177
        }
      ]
    },
    {
      "cell_type": "code",
      "metadata": {
        "id": "UXGh4Az704BS",
        "colab": {
          "base_uri": "https://localhost:8080/",
          "height": 217
        },
        "outputId": "b962c481-629f-4c75-fc05-ed82d866134a"
      },
      "source": [
        "df.head()"
      ],
      "execution_count": null,
      "outputs": [
        {
          "output_type": "execute_result",
          "data": {
            "text/html": [
              "<div>\n",
              "<style scoped>\n",
              "    .dataframe tbody tr th:only-of-type {\n",
              "        vertical-align: middle;\n",
              "    }\n",
              "\n",
              "    .dataframe tbody tr th {\n",
              "        vertical-align: top;\n",
              "    }\n",
              "\n",
              "    .dataframe thead th {\n",
              "        text-align: right;\n",
              "    }\n",
              "</style>\n",
              "<table border=\"1\" class=\"dataframe\">\n",
              "  <thead>\n",
              "    <tr style=\"text-align: right;\">\n",
              "      <th></th>\n",
              "      <th>Cliente</th>\n",
              "      <th>CEP_Cliente</th>\n",
              "      <th>Pedido</th>\n",
              "      <th>id_Pedido</th>\n",
              "      <th>Produto</th>\n",
              "      <th>Vendedor</th>\n",
              "      <th>Preco_produto</th>\n",
              "      <th>Frete</th>\n",
              "      <th>Parcela</th>\n",
              "      <th>Tipo_pagamento</th>\n",
              "      <th>Installments</th>\n",
              "      <th>Valor_total</th>\n",
              "      <th>ID_Review</th>\n",
              "      <th>CEP_Vendedor</th>\n",
              "      <th>Score</th>\n",
              "    </tr>\n",
              "  </thead>\n",
              "  <tbody>\n",
              "    <tr>\n",
              "      <th>0</th>\n",
              "      <td>068999211881720087</td>\n",
              "      <td>14409</td>\n",
              "      <td>0071050849957707322971</td>\n",
              "      <td>1</td>\n",
              "      <td>9516079379936978101698</td>\n",
              "      <td>76714480069693656010</td>\n",
              "      <td>124.99</td>\n",
              "      <td>21.88</td>\n",
              "      <td>1</td>\n",
              "      <td>credit_card</td>\n",
              "      <td>2</td>\n",
              "      <td>146.87</td>\n",
              "      <td>88852460269121365930</td>\n",
              "      <td>8577</td>\n",
              "      <td>4</td>\n",
              "    </tr>\n",
              "    <tr>\n",
              "      <th>1</th>\n",
              "      <td>4730028858608712037403</td>\n",
              "      <td>1151</td>\n",
              "      <td>205967144362972992</td>\n",
              "      <td>1</td>\n",
              "      <td>0766896614945862518487</td>\n",
              "      <td>76714480069693656010</td>\n",
              "      <td>139.94</td>\n",
              "      <td>17.79</td>\n",
              "      <td>1</td>\n",
              "      <td>credit_card</td>\n",
              "      <td>7</td>\n",
              "      <td>157.73</td>\n",
              "      <td>56695761864734270698487</td>\n",
              "      <td>8577</td>\n",
              "      <td>5</td>\n",
              "    </tr>\n",
              "    <tr>\n",
              "      <th>2</th>\n",
              "      <td>260275510952946358123</td>\n",
              "      <td>8775</td>\n",
              "      <td>9516709235944631127306</td>\n",
              "      <td>1</td>\n",
              "      <td>564744977148034751092</td>\n",
              "      <td>76714480069693656010</td>\n",
              "      <td>149.94</td>\n",
              "      <td>23.36</td>\n",
              "      <td>1</td>\n",
              "      <td>credit_card</td>\n",
              "      <td>1</td>\n",
              "      <td>173.30</td>\n",
              "      <td>0598013162266672875</td>\n",
              "      <td>8577</td>\n",
              "      <td>5</td>\n",
              "    </tr>\n",
              "    <tr>\n",
              "      <th>3</th>\n",
              "      <td>406427971077955491</td>\n",
              "      <td>65075</td>\n",
              "      <td>9974373861057480116</td>\n",
              "      <td>1</td>\n",
              "      <td>8094076568610375</td>\n",
              "      <td>76714480069693656010</td>\n",
              "      <td>199.98</td>\n",
              "      <td>115.77</td>\n",
              "      <td>1</td>\n",
              "      <td>credit_card</td>\n",
              "      <td>6</td>\n",
              "      <td>315.75</td>\n",
              "      <td>2518803238635645934852</td>\n",
              "      <td>8577</td>\n",
              "      <td>1</td>\n",
              "    </tr>\n",
              "    <tr>\n",
              "      <th>4</th>\n",
              "      <td>827607252254128462738664</td>\n",
              "      <td>90010</td>\n",
              "      <td>631862016861141129</td>\n",
              "      <td>1</td>\n",
              "      <td>8609375091115750004</td>\n",
              "      <td>76714480069693656010</td>\n",
              "      <td>129.60</td>\n",
              "      <td>16.61</td>\n",
              "      <td>1</td>\n",
              "      <td>boleto</td>\n",
              "      <td>1</td>\n",
              "      <td>146.21</td>\n",
              "      <td>84467176677541425367905</td>\n",
              "      <td>8577</td>\n",
              "      <td>4</td>\n",
              "    </tr>\n",
              "  </tbody>\n",
              "</table>\n",
              "</div>"
            ],
            "text/plain": [
              "                    Cliente  CEP_Cliente  ... CEP_Vendedor  Score\n",
              "0        068999211881720087        14409  ...         8577      4\n",
              "1    4730028858608712037403         1151  ...         8577      5\n",
              "2     260275510952946358123         8775  ...         8577      5\n",
              "3        406427971077955491        65075  ...         8577      1\n",
              "4  827607252254128462738664        90010  ...         8577      4\n",
              "\n",
              "[5 rows x 15 columns]"
            ]
          },
          "metadata": {
            "tags": []
          },
          "execution_count": 235
        }
      ]
    },
    {
      "cell_type": "markdown",
      "metadata": {
        "id": "pCkeQ72Is99r"
      },
      "source": [
        "**Para tornar o modelo mais visual, criamos um laço para a impressão dos pesos de cada atributo para determinar o score**"
      ]
    },
    {
      "cell_type": "code",
      "metadata": {
        "id": "OdazSuQp1G5A",
        "colab": {
          "base_uri": "https://localhost:8080/"
        },
        "outputId": "6c0842fb-5736-4644-a949-2f874f6b6d55"
      },
      "source": [
        "for feature, importancia in zip(result_df.columns, cls.feature_importances_):\n",
        "    print(\"{}:{:.1f}%\".format(feature,((importancia*100))))\n"
      ],
      "execution_count": null,
      "outputs": [
        {
          "output_type": "stream",
          "text": [
            "Cliente:10.4%\n",
            "CEP_Cliente:11.0%\n",
            "Pedido:10.4%\n",
            "id_Pedido:0.8%\n",
            "Produto:9.4%\n",
            "Vendedor:8.0%\n",
            "Preco_produto:8.0%\n",
            "Frete:8.1%\n",
            "Parcela:0.3%\n",
            "Installments:3.7%\n",
            "Valor_total:8.6%\n",
            "ID_Review:11.4%\n",
            "CEP_Vendedor:7.7%\n",
            "Score:0.8%\n",
            "Tipo_pagamento_boleto:0.8%\n",
            "Tipo_pagamento_credit_card:0.2%\n",
            "Tipo_pagamento_debit_card:0.3%\n"
          ],
          "name": "stdout"
        }
      ]
    },
    {
      "cell_type": "markdown",
      "metadata": {
        "id": "djvjXVRAtQci"
      },
      "source": [
        "**Vetor com predições para checagem do aprendizado**"
      ]
    },
    {
      "cell_type": "code",
      "metadata": {
        "id": "yPLeiTs51Nrn",
        "colab": {
          "base_uri": "https://localhost:8080/"
        },
        "outputId": "08bf5075-67e8-4517-ae7b-9f0571863579"
      },
      "source": [
        "result = cls.predict(X_test)\n",
        "result"
      ],
      "execution_count": null,
      "outputs": [
        {
          "output_type": "execute_result",
          "data": {
            "text/plain": [
              "array([1, 4, 5, ..., 5, 5, 4])"
            ]
          },
          "metadata": {
            "tags": []
          },
          "execution_count": 209
        }
      ]
    },
    {
      "cell_type": "code",
      "metadata": {
        "colab": {
          "base_uri": "https://localhost:8080/"
        },
        "id": "4RFm4F3ZytpD",
        "outputId": "d4400103-0e8e-477d-e454-1e400dead1c3"
      },
      "source": [
        "result_df.Score[118310]"
      ],
      "execution_count": null,
      "outputs": [
        {
          "output_type": "execute_result",
          "data": {
            "text/plain": [
              "5"
            ]
          },
          "metadata": {
            "tags": []
          },
          "execution_count": 219
        }
      ]
    },
    {
      "cell_type": "markdown",
      "metadata": {
        "id": "MBWWaHnUtYSp"
      },
      "source": [
        "**Representação das métricas de precisão e médias do modelo**"
      ]
    },
    {
      "cell_type": "code",
      "metadata": {
        "id": "dV9I2VYiBlO8",
        "colab": {
          "base_uri": "https://localhost:8080/"
        },
        "outputId": "19cda1d3-6b20-4c4b-fc6f-f4d96552688b"
      },
      "source": [
        "from sklearn import metrics\n",
        "print(metrics.classification_report(y_test,result))"
      ],
      "execution_count": null,
      "outputs": [
        {
          "output_type": "stream",
          "text": [
            "              precision    recall  f1-score   support\n",
            "\n",
            "           1       0.26      0.27      0.27      4602\n",
            "           2       0.12      0.13      0.12      1193\n",
            "           3       0.15      0.17      0.16      2975\n",
            "           4       0.24      0.25      0.24      6685\n",
            "           5       0.61      0.58      0.60     20040\n",
            "\n",
            "    accuracy                           0.43     35495\n",
            "   macro avg       0.28      0.28      0.28     35495\n",
            "weighted avg       0.44      0.43      0.44     35495\n",
            "\n"
          ],
          "name": "stdout"
        }
      ]
    },
    {
      "cell_type": "markdown",
      "metadata": {
        "id": "cxzlSiMItexo"
      },
      "source": [
        "**Precisão total**"
      ]
    },
    {
      "cell_type": "code",
      "metadata": {
        "id": "axNM8PZNJXgS",
        "colab": {
          "base_uri": "https://localhost:8080/"
        },
        "outputId": "bd5e2f7e-77a1-42bf-88ee-21a607c5ca70"
      },
      "source": [
        "from sklearn.model_selection import cross_val_score\n",
        "allScores = cross_val_score(cls, X_train, y_train , cv=10)\n",
        "allScores.mean()"
      ],
      "execution_count": null,
      "outputs": [
        {
          "output_type": "execute_result",
          "data": {
            "text/plain": [
              "0.42534411977783143"
            ]
          },
          "metadata": {
            "tags": []
          },
          "execution_count": 221
        }
      ]
    },
    {
      "cell_type": "markdown",
      "metadata": {
        "id": "jP4vlUzPtkYg"
      },
      "source": [
        "**Treinamento utilizando o dataframe reserva. (apenas com os níveis de satisfação abaixo da média, score <=3)** "
      ]
    },
    {
      "cell_type": "markdown",
      "metadata": {
        "id": "fAACLv_It3DG"
      },
      "source": [
        "**Split do dataframe em treino e teste (70%, 30%, respectivamente)**"
      ]
    },
    {
      "cell_type": "code",
      "metadata": {
        "id": "_UJouks212AE"
      },
      "source": [
        "X_train, X_test, y_train, y_test = train_test_split(reserva.drop('Score', axis=1), reserva['Score'], test_size=0.3)"
      ],
      "execution_count": null,
      "outputs": []
    },
    {
      "cell_type": "markdown",
      "metadata": {
        "id": "s556Ukh7uFhU"
      },
      "source": [
        "**Quantidade de amostras do treino**"
      ]
    },
    {
      "cell_type": "code",
      "metadata": {
        "colab": {
          "base_uri": "https://localhost:8080/"
        },
        "id": "CVoF5-F117qX",
        "outputId": "2b6fb6c2-2463-44de-ccce-9e01460c9f24"
      },
      "source": [
        "X_train.shape, X_test.shape\n"
      ],
      "execution_count": null,
      "outputs": [
        {
          "output_type": "execute_result",
          "data": {
            "text/plain": [
              "((20715, 17), (8878, 17))"
            ]
          },
          "metadata": {
            "tags": []
          },
          "execution_count": 229
        }
      ]
    },
    {
      "cell_type": "markdown",
      "metadata": {
        "id": "aAihR-_juLqC"
      },
      "source": [
        "**Classificador**"
      ]
    },
    {
      "cell_type": "code",
      "metadata": {
        "id": "zXUQqpiO2ANc"
      },
      "source": [
        "clf = DecisionTreeClassifier()"
      ],
      "execution_count": null,
      "outputs": []
    },
    {
      "cell_type": "markdown",
      "metadata": {
        "id": "G1patiNzuQRc"
      },
      "source": [
        "**Treino**"
      ]
    },
    {
      "cell_type": "code",
      "metadata": {
        "id": "7TlD0zq62ETT"
      },
      "source": [
        "clf = clf.fit(X_train, y_train)\n"
      ],
      "execution_count": null,
      "outputs": []
    },
    {
      "cell_type": "markdown",
      "metadata": {
        "id": "vVYuvi6ouS0N"
      },
      "source": [
        "**Importancia de cada atributo para determinar o nível de satisfação dos consumidores**"
      ]
    },
    {
      "cell_type": "code",
      "metadata": {
        "colab": {
          "base_uri": "https://localhost:8080/"
        },
        "id": "u92IM-hV2IC3",
        "outputId": "fc1a77cc-3fdf-4fcb-ac7c-457be0372f5a"
      },
      "source": [
        "clf.feature_importances_"
      ],
      "execution_count": null,
      "outputs": [
        {
          "output_type": "execute_result",
          "data": {
            "text/plain": [
              "array([0.10048426, 0.11080533, 0.10888151, 0.00838036, 0.09478009,\n",
              "       0.08306931, 0.0741649 , 0.08334586, 0.00208028, 0.03551857,\n",
              "       0.08657828, 0.11647515, 0.07639348, 0.00679141, 0.0070284 ,\n",
              "       0.00174576, 0.00347703])"
            ]
          },
          "metadata": {
            "tags": []
          },
          "execution_count": 233
        }
      ]
    },
    {
      "cell_type": "code",
      "metadata": {
        "colab": {
          "base_uri": "https://localhost:8080/"
        },
        "id": "-4kfOqzr2LLr",
        "outputId": "7c5b7d74-fa2b-4c04-b10e-80a0766ae092"
      },
      "source": [
        "for feature, importancia in zip(reserva.columns, clf.feature_importances_):\n",
        "    print(\"{}:{:.1f}%\".format(feature,((importancia*100))))\n",
        "    "
      ],
      "execution_count": null,
      "outputs": [
        {
          "output_type": "stream",
          "text": [
            "Cliente:10.0%\n",
            "CEP_Cliente:11.1%\n",
            "Pedido:10.9%\n",
            "id_Pedido:0.8%\n",
            "Produto:9.5%\n",
            "Vendedor:8.3%\n",
            "Preco_produto:7.4%\n",
            "Frete:8.3%\n",
            "Parcela:0.2%\n",
            "Installments:3.6%\n",
            "Valor_total:8.7%\n",
            "ID_Review:11.6%\n",
            "CEP_Vendedor:7.6%\n",
            "Score:0.7%\n",
            "Tipo_pagamento_boleto:0.7%\n",
            "Tipo_pagamento_credit_card:0.2%\n",
            "Tipo_pagamento_debit_card:0.3%\n"
          ],
          "name": "stdout"
        }
      ]
    },
    {
      "cell_type": "markdown",
      "metadata": {
        "id": "eI9iD4zjulSZ"
      },
      "source": [
        "# ANÁLISE DOS DADOS PROCESSADOS\n",
        "\n",
        "**Com o objetivo de aumentar o review_score desse marketplace, utilizamos o algoritmo de árvore de decisão para encontrar elementos que influenciam diretamente a aceitação e satisfação dos clientes, analisando desde o processo de despacho do produto, até a qualidade do atendimento e do produto final. Dessa forma, utilizamos estratégias de filtragem. Inicialmente eliminamos os elementos que, evidentemente, não apresentavam influencia sobre a nota registrada pelo cliente. Após esse passo inicial, simplificamos o tipo dos dados para facilitar o processamento do dataframe pelo algoritmo. Após o processo de preparar os dados para o aprendizado registramos os seguintes valores:**\n",
        "\n",
        "**Considerando todos as notas (Ótimo, bom, mediano, ruim, péssimo) :**\n",
        "\n",
        "Cliente:10.4%\n",
        "\n",
        "CEP_Cliente:11.0%\n",
        "\n",
        "Pedido:10.4%\n",
        "\n",
        "id_Pedido:0.8%\n",
        "\n",
        "Produto:9.4%\n",
        "\n",
        "Vendedor:8.0%\n",
        "\n",
        "Preco_produto:8.0%\n",
        "\n",
        "Frete:8.1%\n",
        "\n",
        "Parcela:0.3%\n",
        "\n",
        "Installments:3.7%\n",
        "\n",
        "Valor_total:8.6%\n",
        "\n",
        "ID_Review:11.4%\n",
        "\n",
        "CEP_Vendedor:7.7%\n",
        "\n",
        "Score:0.8%\n",
        "\n",
        "Tipo_pagamento_boleto:0.8%\n",
        "\n",
        "Tipo_pagamento_credit_card:0.2%\n",
        "\n",
        "Tipo_pagamento_debit_card:0.3%\n",
        "\n",
        "------------------------------------\n",
        "\n",
        "**Considerando apenas avaliações com notas instatisfatórias (mediano, ruim, péssimo) :**\n",
        "\n",
        "Cliente:10.0%\n",
        "\n",
        "CEP_Cliente:11.1%\n",
        "\n",
        "Pedido:10.9%\n",
        "\n",
        "id_Pedido:0.8%\n",
        "\n",
        "Produto:9.5%\n",
        "\n",
        "Vendedor:8.3%\n",
        "\n",
        "Preco_produto:7.4%\n",
        "\n",
        "Frete:8.3%\n",
        "\n",
        "Parcela:0.2%\n",
        "\n",
        "Installments:3.6%\n",
        "\n",
        "Valor_total:8.7%\n",
        "\n",
        "ID_Review:11.6%\n",
        "\n",
        "CEP_Vendedor:7.6%\n",
        "\n",
        "Score:0.7%\n",
        "\n",
        "Tipo_pagamento_boleto:0.7%\n",
        "\n",
        "Tipo_pagamento_credit_card:0.2%\n",
        "\n",
        "Tipo_pagamento_debit_card:0.3%\n",
        "\n",
        "---------------------\n",
        "**Portanto, com base nos resultados obtidos, o dono do marketplace deve se atentar aos seguintes parâmetros de sua logística:**\n",
        "\n",
        "**1 - Relação entre CEP_Cliente, Frete e CEP_Vendedor**\n",
        "\n",
        "**Esses atributos apresentaram importancia direta na nota registrada pelo cliente, dessa forma, algumas razões devem ser consideradas:**\n",
        "\n",
        "**-Problemas com a entrega.**\n",
        "\n",
        "**-Qualidade da entrega(tempo de entrega,comprometimento do produto durante o processo de transporte).**\n",
        "\n",
        "**-Alto preço do frete para determinadas regiões.**\n",
        "\n",
        "-----------------------------\n",
        "**2 - Produto**\n",
        "\n",
        "**O atributo produto apresentou importancia direta na insatisfação dos clientes. Portanto, deve-se considerar:**\n",
        "\n",
        "**-Qualidade ruim de determinados produtos.**\n",
        "\n",
        "**-O produto entregue não apresentar as caracteristicas do produto anunciado.**\n",
        "\n",
        "**-Entrega de produtos errados, problema de logística.**\n",
        "\n",
        "---------------------------------\n",
        "\n",
        "**3 - Vendedor**\n",
        "\n",
        "**O atributo Vendedor apresentou importancia direta na insatisfação dos clientes. Portanto, deve-se considerar:**\n",
        "\n",
        "**-Qualidade duvidosa do atendimento por parte do vendedor.**\n",
        "\n",
        "**-Erro do vendedor em alguma etapa do processo em específico.**\n",
        "\n",
        "--------------------------\n",
        "\n",
        "\n",
        "# **CONCLUSÃO**\n",
        "\n",
        "\n",
        "**Portanto, é possível concluir que para o marketplace aumentar seu score, analisar problemas logísticos por parte do processo de transporte, aspectos do produto e os vendedores são os fatores mais importantes para entender o que se passa na empresa e solucionar o problema que está gerando insatisfação dos clientes desse e-commerce.**\n",
        "\n",
        "\n",
        "\n",
        "\n",
        "\n"
      ]
    }
  ]
}